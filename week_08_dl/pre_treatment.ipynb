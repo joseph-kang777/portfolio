{
 "cells": [
  {
   "cell_type": "code",
   "execution_count": 37,
   "metadata": {},
   "outputs": [],
   "source": [
    "# 모듈로딩\n",
    "import os\n",
    "import cv2\n",
    "import matplotlib.pyplot as plt\n",
    "import numpy as np\n",
    "import pandas as pd\n",
    "import keras\n",
    "import glob\n",
    "from keras.preprocessing.image import ImageDataGenerator\n",
    "from sklearn.model_selection import train_test_split"
   ]
  },
  {
   "cell_type": "code",
   "execution_count": 38,
   "metadata": {},
   "outputs": [],
   "source": [
    "# 나이 선택 미성년층, 청년층, 장년층, 노년층을 대표할 수 있는 나이대를 선택\n",
    "# 미성년층 : 10대, 청년층 : 20대, 장년층 : 40대, 노년층 : 60대\n",
    "ages=[10,20,40,60]\n",
    "file_path = './image/'"
   ]
  },
  {
   "cell_type": "code",
   "execution_count": 39,
   "metadata": {},
   "outputs": [],
   "source": [
    "# ImageDataGenerator 인스턴스 생성\n",
    "datagen = ImageDataGenerator(rescale=1./255,\n",
    "        rotation_range=10,\n",
    "        width_shift_range=0.2,\n",
    "        height_shift_range=0.2,\n",
    "        shear_range=0.2,\n",
    "        zoom_range=[0.2, 2.2],\n",
    "        horizontal_flip=True,\n",
    "        vertical_flip=True,\n",
    "        fill_mode='nearest')"
   ]
  },
  {
   "cell_type": "code",
   "execution_count": 40,
   "metadata": {},
   "outputs": [],
   "source": [
    "# image를 읽고, 리사이즈\n",
    "# 초기 Grayscale로 인해, 정확도가 떨어짐. 그래서 주석 처리함.\n",
    "dsize_ =(32,32)\n",
    "imgdatas=[]\n",
    "for age in ages:\n",
    "    filename=file_path+str(age)+\"/\" +\"*jpg*\"\n",
    "    fileList = glob.glob(filename)\n",
    "\n",
    "    for file in fileList:\n",
    "        # org =cv2.imread(file,cv2.IMREAD_GRAYSCALE)\n",
    "        org =cv2.imread(file)\n",
    "        img=cv2.resize(org,dsize_)\n",
    "        imgdatas.append(img)"
   ]
  },
  {
   "cell_type": "code",
   "execution_count": 41,
   "metadata": {},
   "outputs": [],
   "source": [
    "# 타겟 데이터 만들기\n",
    "targetdatas = []\n",
    "for age in ages:\n",
    "    targetdata = []\n",
    "    targetdata=[age]*20000\n",
    "    targetdatas.extend(targetdata)\n",
    "   \n",
    " # 원핫 인코딩\n",
    "target=pd.get_dummies(targetdatas).values.astype(int)"
   ]
  },
  {
   "cell_type": "code",
   "execution_count": 42,
   "metadata": {},
   "outputs": [],
   "source": [
    "# ImageDataGenerator 를 통해 다양한 각도 및 크기를 조절해서 학습\n",
    "total = []\n",
    "for x in range(len(imgdatas)):\n",
    "    x = imgdatas[x].reshape((1,) + imgdatas[x].shape)\n",
    "    j = 0\n",
    "    for batch in datagen.flow(x=x, batch_size=1,shuffle=False):\n",
    "        total.append(batch)\n",
    "        j += 1\n",
    "                \n",
    "        if j > 199: # 각 원본 이미지당 새로운 이미지를 생성하는 개수 설정 \n",
    "            break"
   ]
  },
  {
   "cell_type": "code",
   "execution_count": 43,
   "metadata": {},
   "outputs": [],
   "source": [
    "total_numpy=np.array(total)"
   ]
  },
  {
   "cell_type": "code",
   "execution_count": 44,
   "metadata": {},
   "outputs": [
    {
     "data": {
      "text/plain": [
       "80000"
      ]
     },
     "execution_count": 44,
     "metadata": {},
     "output_type": "execute_result"
    }
   ],
   "source": [
    "len(total_numpy)"
   ]
  },
  {
   "cell_type": "code",
   "execution_count": 45,
   "metadata": {},
   "outputs": [
    {
     "data": {
      "text/plain": [
       "80000"
      ]
     },
     "execution_count": 45,
     "metadata": {},
     "output_type": "execute_result"
    }
   ],
   "source": [
    "len(target)"
   ]
  },
  {
   "cell_type": "code",
   "execution_count": 46,
   "metadata": {},
   "outputs": [],
   "source": [
    "# train, test 분리\n",
    "trainx,testx,trainy,testy = train_test_split(total_numpy,target,test_size=0.2,random_state=10,stratify=target)"
   ]
  },
  {
   "cell_type": "code",
   "execution_count": 47,
   "metadata": {},
   "outputs": [
    {
     "data": {
      "text/plain": [
       "(64000, 1, 32, 32, 3)"
      ]
     },
     "execution_count": 47,
     "metadata": {},
     "output_type": "execute_result"
    }
   ],
   "source": [
    "trainx.shape"
   ]
  },
  {
   "cell_type": "code",
   "execution_count": 48,
   "metadata": {},
   "outputs": [],
   "source": [
    "trainx=trainx.reshape(64000, 32, 32, 3)"
   ]
  },
  {
   "cell_type": "code",
   "execution_count": 49,
   "metadata": {},
   "outputs": [],
   "source": [
    "testx=testx.reshape(16000, 32, 32, 3)"
   ]
  },
  {
   "cell_type": "code",
   "execution_count": 50,
   "metadata": {},
   "outputs": [
    {
     "data": {
      "text/plain": [
       "(64000, 4)"
      ]
     },
     "execution_count": 50,
     "metadata": {},
     "output_type": "execute_result"
    }
   ],
   "source": [
    "trainy.shape"
   ]
  },
  {
   "cell_type": "code",
   "execution_count": 51,
   "metadata": {},
   "outputs": [],
   "source": [
    "# 모듈 로딩\n",
    "from keras.models import Sequential\n",
    "from keras.layers import Conv2D,Dense,MaxPool2D,Flatten\n",
    "from keras.callbacks import LearningRateScheduler,EarlyStopping,ModelCheckpoint\n",
    "from keras.regularizers import L1,L2\n",
    "import tensorflow as tf"
   ]
  },
  {
   "cell_type": "code",
   "execution_count": 52,
   "metadata": {},
   "outputs": [],
   "source": [
    "# 전이 학습 사용\n",
    "transfer_model=tf.keras.applications.VGG16(include_top=False,weights=\"imagenet\",input_tensor=None,input_shape=(32,32,3))\n",
    "transfer_model.trainable=False"
   ]
  },
  {
   "cell_type": "code",
   "execution_count": 53,
   "metadata": {},
   "outputs": [],
   "source": [
    "# 모델링\n",
    "model1 = Sequential()\n",
    "model1.add(transfer_model)\n",
    "model1.add(Conv2D(10,3,input_shape=(64,64,3),activation=\"relu\",kernel_regularizer=\"l1\",kernel_initializer=\"he_normal\"))\n",
    "model1.add(MaxPool2D())\n",
    "model.add(Conv2D(10,3,input_shape=(64,64,3),activation=\"relu\",kernel_regularizer=\"l1\",kernel_initializer=\"he_normal\"))\n",
    "model.add(MaxPool2D())\n",
    "model1.add(Flatten())\n",
    "model1.add(Dense(100,activation=\"relu\",kernel_regularizer=\"l2\",kernel_initializer=\"he_normal\"))\n",
    "model1.add(Dense(100,activation=\"relu\",kernel_regularizer=\"l2\",kernel_initializer=\"he_normal\"))\n",
    "model1.add(Dense(100,activation=\"relu\",kernel_regularizer=\"l2\",kernel_initializer=\"he_normal\"))\n",
    "model1.add(Dense(4,activation=\"softmax\"))"
   ]
  },
  {
   "cell_type": "code",
   "execution_count": 54,
   "metadata": {},
   "outputs": [],
   "source": [
    "# 모델 컴파일, optimizer : adam, 손실함수 : categorical_crossentropy\n",
    "model1.compile(optimizer=\"adam\",loss=\"categorical_crossentropy\",metrics=[\"accuracy\"])"
   ]
  },
  {
   "cell_type": "code",
   "execution_count": 55,
   "metadata": {},
   "outputs": [],
   "source": [
    "# callback mc,es,lr 설정\n",
    "\n",
    "# model checkpoint\n",
    "model_path = \"./models/\"\n",
    "model_file = model_path+\"best_model\"\n",
    "mc = ModelCheckpoint(model_file,save_best_only=True)\n",
    "\n",
    "# Early Stopping\n",
    "es = EarlyStopping(patience=5)\n",
    "\n",
    "\n",
    "# Learing rate\n",
    "def scheduler(epoch,lr):\n",
    "    if epoch >20:\n",
    "        return 0.0001\n",
    "    else:\n",
    "        return lr\n",
    "lr = LearningRateScheduler(scheduler)"
   ]
  },
  {
   "cell_type": "code",
   "execution_count": 56,
   "metadata": {},
   "outputs": [],
   "source": [
    "# 모델 학습\n",
    "model1.fit(x=trainx,y=trainy,epochs=50,callbacks=[mc,es,lr],validation_split=0.2)"
   ]
  },
  {
   "cell_type": "code",
   "execution_count": 57,
   "metadata": {},
   "outputs": [],
   "source": [
    "from keras.models import load_model\n",
    "from keras.utils import custom_object_scope"
   ]
  },
  {
   "cell_type": "code",
   "execution_count": 60,
   "metadata": {},
   "outputs": [],
   "source": [
    "# 커스텀 레이어 정의\n",
    "class CastToFloat32(keras.layers.Layer):\n",
    "    def call(self, inputs):\n",
    "        return tf.cast(inputs, tf.float32)\n",
    "\n",
    "# 모델 로드 시 custom_objects 옵션 사용\n",
    "# with keras.utils.custom_object_scope({'CastToFloat32': CastToFloat32}) :\n",
    "test3_model = load_model(\"./models/auto_model.h5\",custom_objects=({ \"Custom>CastToFloat32\": CastToFloat32}))"
   ]
  },
  {
   "cell_type": "code",
   "execution_count": 62,
   "metadata": {},
   "outputs": [
    {
     "name": "stdout",
     "output_type": "stream",
     "text": [
      "500/500 [==============================] - 7s 14ms/step - loss: 0.2477 - accuracy: 0.9103\n"
     ]
    },
    {
     "data": {
      "text/plain": [
       "[0.24768157303333282, 0.9102500081062317]"
      ]
     },
     "execution_count": 62,
     "metadata": {},
     "output_type": "execute_result"
    }
   ],
   "source": [
    "test3_model.evaluate(testx,testy)"
   ]
  },
  {
   "cell_type": "code",
   "execution_count": 68,
   "metadata": {},
   "outputs": [
    {
     "data": {
      "text/plain": [
       "{'input_shape': (None, 32, 32, 3)}"
      ]
     },
     "execution_count": 68,
     "metadata": {},
     "output_type": "execute_result"
    }
   ],
   "source": [
    "test3_model.get_build_config()"
   ]
  },
  {
   "cell_type": "code",
   "execution_count": 69,
   "metadata": {},
   "outputs": [
    {
     "data": {
      "text/plain": [
       "{'optimizer': {'module': 'keras.optimizers',\n",
       "  'class_name': 'Adam',\n",
       "  'config': {'name': 'Adam',\n",
       "   'weight_decay': None,\n",
       "   'clipnorm': None,\n",
       "   'global_clipnorm': None,\n",
       "   'clipvalue': None,\n",
       "   'use_ema': False,\n",
       "   'ema_momentum': 0.99,\n",
       "   'ema_overwrite_frequency': None,\n",
       "   'jit_compile': False,\n",
       "   'is_legacy_optimizer': False,\n",
       "   'learning_rate': 9.999999747378752e-05,\n",
       "   'beta_1': 0.9,\n",
       "   'beta_2': 0.999,\n",
       "   'epsilon': 1e-07,\n",
       "   'amsgrad': False},\n",
       "  'registered_name': None},\n",
       " 'loss': {'classification_head_1': {'module': 'keras.losses',\n",
       "   'class_name': 'CategoricalCrossentropy',\n",
       "   'config': {'reduction': 'auto',\n",
       "    'name': 'categorical_crossentropy',\n",
       "    'from_logits': False,\n",
       "    'label_smoothing': 0.0,\n",
       "    'axis': -1,\n",
       "    'fn': 'categorical_crossentropy'},\n",
       "   'registered_name': None}},\n",
       " 'metrics': [[{'module': 'keras.metrics',\n",
       "    'class_name': 'MeanMetricWrapper',\n",
       "    'config': {'name': 'accuracy',\n",
       "     'dtype': 'float32',\n",
       "     'fn': {'module': 'builtins',\n",
       "      'class_name': 'function',\n",
       "      'config': 'categorical_accuracy',\n",
       "      'registered_name': 'function'}},\n",
       "    'registered_name': None}]],\n",
       " 'loss_weights': None,\n",
       " 'weighted_metrics': None,\n",
       " 'run_eagerly': None,\n",
       " 'steps_per_execution': None,\n",
       " 'jit_compile': None}"
      ]
     },
     "execution_count": 69,
     "metadata": {},
     "output_type": "execute_result"
    }
   ],
   "source": [
    "test3_model.get_compile_config()"
   ]
  },
  {
   "cell_type": "code",
   "execution_count": 70,
   "metadata": {},
   "outputs": [
    {
     "data": {
      "text/plain": [
       "{'name': 'model',\n",
       " 'trainable': True,\n",
       " 'layers': [{'module': 'keras.layers',\n",
       "   'class_name': 'InputLayer',\n",
       "   'config': {'batch_input_shape': (None, 32, 32, 3),\n",
       "    'dtype': 'float32',\n",
       "    'sparse': False,\n",
       "    'ragged': False,\n",
       "    'name': 'input_1'},\n",
       "   'registered_name': None,\n",
       "   'name': 'input_1',\n",
       "   'inbound_nodes': []},\n",
       "  {'module': None,\n",
       "   'class_name': 'CastToFloat32',\n",
       "   'config': {'name': 'cast_to_float32',\n",
       "    'trainable': True,\n",
       "    'dtype': 'float32'},\n",
       "   'registered_name': 'CastToFloat32',\n",
       "   'build_config': {'input_shape': (None, 32, 32, 3)},\n",
       "   'name': 'cast_to_float32',\n",
       "   'inbound_nodes': [[['input_1', 0, 0, {}]]]},\n",
       "  {'module': 'keras.layers',\n",
       "   'class_name': 'Normalization',\n",
       "   'config': {'name': 'normalization',\n",
       "    'trainable': True,\n",
       "    'dtype': 'float32',\n",
       "    'axis': (-1,),\n",
       "    'invert': False,\n",
       "    'mean': None,\n",
       "    'variance': None},\n",
       "   'registered_name': None,\n",
       "   'build_config': {'input_shape': (None, 32, 32, 3)},\n",
       "   'name': 'normalization',\n",
       "   'inbound_nodes': [[['cast_to_float32', 0, 0, {}]]]},\n",
       "  {'module': 'keras.layers',\n",
       "   'class_name': 'Conv2D',\n",
       "   'config': {'name': 'conv2d',\n",
       "    'trainable': True,\n",
       "    'dtype': 'float32',\n",
       "    'filters': 32,\n",
       "    'kernel_size': (3, 3),\n",
       "    'strides': (1, 1),\n",
       "    'padding': 'valid',\n",
       "    'data_format': 'channels_last',\n",
       "    'dilation_rate': (1, 1),\n",
       "    'groups': 1,\n",
       "    'activation': 'relu',\n",
       "    'use_bias': True,\n",
       "    'kernel_initializer': {'module': 'keras.initializers',\n",
       "     'class_name': 'GlorotUniform',\n",
       "     'config': {'seed': None},\n",
       "     'registered_name': None},\n",
       "    'bias_initializer': {'module': 'keras.initializers',\n",
       "     'class_name': 'Zeros',\n",
       "     'config': {},\n",
       "     'registered_name': None},\n",
       "    'kernel_regularizer': None,\n",
       "    'bias_regularizer': None,\n",
       "    'activity_regularizer': None,\n",
       "    'kernel_constraint': None,\n",
       "    'bias_constraint': None},\n",
       "   'registered_name': None,\n",
       "   'build_config': {'input_shape': (None, 32, 32, 3)},\n",
       "   'name': 'conv2d',\n",
       "   'inbound_nodes': [[['normalization', 0, 0, {}]]]},\n",
       "  {'module': 'keras.layers',\n",
       "   'class_name': 'Conv2D',\n",
       "   'config': {'name': 'conv2d_1',\n",
       "    'trainable': True,\n",
       "    'dtype': 'float32',\n",
       "    'filters': 64,\n",
       "    'kernel_size': (3, 3),\n",
       "    'strides': (1, 1),\n",
       "    'padding': 'valid',\n",
       "    'data_format': 'channels_last',\n",
       "    'dilation_rate': (1, 1),\n",
       "    'groups': 1,\n",
       "    'activation': 'relu',\n",
       "    'use_bias': True,\n",
       "    'kernel_initializer': {'module': 'keras.initializers',\n",
       "     'class_name': 'GlorotUniform',\n",
       "     'config': {'seed': None},\n",
       "     'registered_name': None},\n",
       "    'bias_initializer': {'module': 'keras.initializers',\n",
       "     'class_name': 'Zeros',\n",
       "     'config': {},\n",
       "     'registered_name': None},\n",
       "    'kernel_regularizer': None,\n",
       "    'bias_regularizer': None,\n",
       "    'activity_regularizer': None,\n",
       "    'kernel_constraint': None,\n",
       "    'bias_constraint': None},\n",
       "   'registered_name': None,\n",
       "   'build_config': {'input_shape': (None, 30, 30, 32)},\n",
       "   'name': 'conv2d_1',\n",
       "   'inbound_nodes': [[['conv2d', 0, 0, {}]]]},\n",
       "  {'module': 'keras.layers',\n",
       "   'class_name': 'MaxPooling2D',\n",
       "   'config': {'name': 'max_pooling2d',\n",
       "    'trainable': True,\n",
       "    'dtype': 'float32',\n",
       "    'pool_size': (2, 2),\n",
       "    'padding': 'valid',\n",
       "    'strides': (2, 2),\n",
       "    'data_format': 'channels_last'},\n",
       "   'registered_name': None,\n",
       "   'build_config': {'input_shape': (None, 28, 28, 64)},\n",
       "   'name': 'max_pooling2d',\n",
       "   'inbound_nodes': [[['conv2d_1', 0, 0, {}]]]},\n",
       "  {'module': 'keras.layers',\n",
       "   'class_name': 'Dropout',\n",
       "   'config': {'name': 'dropout',\n",
       "    'trainable': True,\n",
       "    'dtype': 'float32',\n",
       "    'rate': 0.25,\n",
       "    'noise_shape': None,\n",
       "    'seed': None},\n",
       "   'registered_name': None,\n",
       "   'build_config': {'input_shape': (None, 14, 14, 64)},\n",
       "   'name': 'dropout',\n",
       "   'inbound_nodes': [[['max_pooling2d', 0, 0, {}]]]},\n",
       "  {'module': 'keras.layers',\n",
       "   'class_name': 'Flatten',\n",
       "   'config': {'name': 'flatten',\n",
       "    'trainable': True,\n",
       "    'dtype': 'float32',\n",
       "    'data_format': 'channels_last'},\n",
       "   'registered_name': None,\n",
       "   'build_config': {'input_shape': (None, 14, 14, 64)},\n",
       "   'name': 'flatten',\n",
       "   'inbound_nodes': [[['dropout', 0, 0, {}]]]},\n",
       "  {'module': 'keras.layers',\n",
       "   'class_name': 'Dropout',\n",
       "   'config': {'name': 'dropout_1',\n",
       "    'trainable': True,\n",
       "    'dtype': 'float32',\n",
       "    'rate': 0.5,\n",
       "    'noise_shape': None,\n",
       "    'seed': None},\n",
       "   'registered_name': None,\n",
       "   'build_config': {'input_shape': (None, 12544)},\n",
       "   'name': 'dropout_1',\n",
       "   'inbound_nodes': [[['flatten', 0, 0, {}]]]},\n",
       "  {'module': 'keras.layers',\n",
       "   'class_name': 'Dense',\n",
       "   'config': {'name': 'dense',\n",
       "    'trainable': True,\n",
       "    'dtype': 'float32',\n",
       "    'units': 4,\n",
       "    'activation': 'linear',\n",
       "    'use_bias': True,\n",
       "    'kernel_initializer': {'module': 'keras.initializers',\n",
       "     'class_name': 'GlorotUniform',\n",
       "     'config': {'seed': None},\n",
       "     'registered_name': None},\n",
       "    'bias_initializer': {'module': 'keras.initializers',\n",
       "     'class_name': 'Zeros',\n",
       "     'config': {},\n",
       "     'registered_name': None},\n",
       "    'kernel_regularizer': None,\n",
       "    'bias_regularizer': None,\n",
       "    'activity_regularizer': None,\n",
       "    'kernel_constraint': None,\n",
       "    'bias_constraint': None},\n",
       "   'registered_name': None,\n",
       "   'build_config': {'input_shape': (None, 12544)},\n",
       "   'name': 'dense',\n",
       "   'inbound_nodes': [[['dropout_1', 0, 0, {}]]]},\n",
       "  {'module': 'keras.layers',\n",
       "   'class_name': 'Softmax',\n",
       "   'config': {'name': 'classification_head_1',\n",
       "    'trainable': True,\n",
       "    'dtype': 'float32',\n",
       "    'axis': -1},\n",
       "   'registered_name': None,\n",
       "   'build_config': {'input_shape': (None, 4)},\n",
       "   'name': 'classification_head_1',\n",
       "   'inbound_nodes': [[['dense', 0, 0, {}]]]}],\n",
       " 'input_layers': [['input_1', 0, 0]],\n",
       " 'output_layers': [['classification_head_1', 0, 0]]}"
      ]
     },
     "execution_count": 70,
     "metadata": {},
     "output_type": "execute_result"
    }
   ],
   "source": [
    "test3_model.get_config()"
   ]
  }
 ],
 "metadata": {
  "kernelspec": {
   "display_name": "deep2",
   "language": "python",
   "name": "python3"
  },
  "language_info": {
   "codemirror_mode": {
    "name": "ipython",
    "version": 3
   },
   "file_extension": ".py",
   "mimetype": "text/x-python",
   "name": "python",
   "nbconvert_exporter": "python",
   "pygments_lexer": "ipython3",
   "version": "3.9.7"
  },
  "orig_nbformat": 4
 },
 "nbformat": 4,
 "nbformat_minor": 2
}
