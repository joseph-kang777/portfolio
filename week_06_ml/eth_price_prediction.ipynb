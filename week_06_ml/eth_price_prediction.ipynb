{
 "cells": [
  {
   "cell_type": "code",
   "execution_count": 185,
   "metadata": {},
   "outputs": [],
   "source": [
    "# 모듈 로딩\n",
    "import pandas as pd\n",
    "import numpy as np\n",
    "import seaborn as sns\n",
    "import matplotlib.pyplot as plt"
   ]
  },
  {
   "cell_type": "code",
   "execution_count": 186,
   "metadata": {},
   "outputs": [],
   "source": [
    "# 구글 트렌드 이더리움 검색량\n",
    "eth_search_df = pd.read_csv(\"../project/data/eth_search.csv\",header=1)"
   ]
  },
  {
   "cell_type": "code",
   "execution_count": 187,
   "metadata": {},
   "outputs": [],
   "source": [
    "# 바이낸스 이더리움 거래량 및 가격\n",
    "df = pd.read_parquet(\"../project/data/ETH-USDT.parquet\")\n",
    "df=df.reset_index()\n",
    "df.drop(columns=[\"high\",\"low\",\"close\",\"taker_buy_base_asset_volume\",\"taker_buy_quote_asset_volume\"],inplace=True)\n",
    "df[\"open_year\"]=df[\"open_time\"].dt.strftime('%Y')\n",
    "df[\"open_month\"]=df[\"open_time\"].dt.strftime('%Y-%m')\n",
    "df[\"open_day\"]=df[\"open_time\"].dt.strftime('%Y-%m-%d')"
   ]
  },
  {
   "cell_type": "code",
   "execution_count": 188,
   "metadata": {},
   "outputs": [],
   "source": [
    "# open_day 컬럼 datetime으로 바꿈\n",
    "df[\"open_day\"]=pd.to_datetime(df[\"open_day\"])"
   ]
  },
  {
   "cell_type": "code",
   "execution_count": 189,
   "metadata": {},
   "outputs": [],
   "source": [
    "# 바이낸스 비트코인 거래량 및 가격\n",
    "btc_df = pd.read_parquet(\"../project/data/BTC-USDT.parquet\")\n",
    "btc_df=btc_df.reset_index()\n",
    "btc_df.drop(columns=[\"high\",\"low\",\"close\",\"taker_buy_base_asset_volume\",\"taker_buy_quote_asset_volume\"],inplace=True)\n",
    "btc_df[\"open_year\"]=df[\"open_time\"].dt.strftime('%Y')\n",
    "btc_df[\"open_month\"]=btc_df[\"open_time\"].dt.strftime('%Y-%m')\n",
    "btc_df[\"open_day\"]=btc_df[\"open_time\"].dt.strftime('%Y-%m-%d')"
   ]
  },
  {
   "cell_type": "code",
   "execution_count": 190,
   "metadata": {},
   "outputs": [],
   "source": [
    "# open_day 컬럼 datetime으로 바꿈\n",
    "btc_df[\"open_day\"]=pd.to_datetime(btc_df[\"open_day\"])"
   ]
  },
  {
   "cell_type": "code",
   "execution_count": 191,
   "metadata": {},
   "outputs": [],
   "source": [
    "# 컬럼 이름변경\n",
    "btc_df.rename(columns={\"open\":\"btc_price\"},inplace=True)"
   ]
  },
  {
   "cell_type": "code",
   "execution_count": 192,
   "metadata": {},
   "outputs": [
    {
     "data": {
      "text/html": [
       "<div>\n",
       "<style scoped>\n",
       "    .dataframe tbody tr th:only-of-type {\n",
       "        vertical-align: middle;\n",
       "    }\n",
       "\n",
       "    .dataframe tbody tr th {\n",
       "        vertical-align: top;\n",
       "    }\n",
       "\n",
       "    .dataframe thead th {\n",
       "        text-align: right;\n",
       "    }\n",
       "</style>\n",
       "<table border=\"1\" class=\"dataframe\">\n",
       "  <thead>\n",
       "    <tr style=\"text-align: right;\">\n",
       "      <th></th>\n",
       "      <th>open_time</th>\n",
       "      <th>open</th>\n",
       "      <th>volume</th>\n",
       "      <th>quote_asset_volume</th>\n",
       "      <th>number_of_trades</th>\n",
       "      <th>open_year</th>\n",
       "      <th>open_month</th>\n",
       "      <th>open_day</th>\n",
       "    </tr>\n",
       "  </thead>\n",
       "  <tbody>\n",
       "    <tr>\n",
       "      <th>0</th>\n",
       "      <td>2017-08-17 04:00:00</td>\n",
       "      <td>301.130005</td>\n",
       "      <td>0.426430</td>\n",
       "      <td>128.410873</td>\n",
       "      <td>2</td>\n",
       "      <td>2017</td>\n",
       "      <td>2017-08</td>\n",
       "      <td>2017-08-17</td>\n",
       "    </tr>\n",
       "    <tr>\n",
       "      <th>1</th>\n",
       "      <td>2017-08-17 04:01:00</td>\n",
       "      <td>301.130005</td>\n",
       "      <td>2.757870</td>\n",
       "      <td>830.477417</td>\n",
       "      <td>4</td>\n",
       "      <td>2017</td>\n",
       "      <td>2017-08</td>\n",
       "      <td>2017-08-17</td>\n",
       "    </tr>\n",
       "    <tr>\n",
       "      <th>2</th>\n",
       "      <td>2017-08-17 04:02:00</td>\n",
       "      <td>300.000000</td>\n",
       "      <td>0.099300</td>\n",
       "      <td>29.790001</td>\n",
       "      <td>2</td>\n",
       "      <td>2017</td>\n",
       "      <td>2017-08</td>\n",
       "      <td>2017-08-17</td>\n",
       "    </tr>\n",
       "    <tr>\n",
       "      <th>3</th>\n",
       "      <td>2017-08-17 04:03:00</td>\n",
       "      <td>300.000000</td>\n",
       "      <td>0.313890</td>\n",
       "      <td>94.167000</td>\n",
       "      <td>3</td>\n",
       "      <td>2017</td>\n",
       "      <td>2017-08</td>\n",
       "      <td>2017-08-17</td>\n",
       "    </tr>\n",
       "    <tr>\n",
       "      <th>4</th>\n",
       "      <td>2017-08-17 04:04:00</td>\n",
       "      <td>301.130005</td>\n",
       "      <td>0.232020</td>\n",
       "      <td>69.868179</td>\n",
       "      <td>1</td>\n",
       "      <td>2017</td>\n",
       "      <td>2017-08</td>\n",
       "      <td>2017-08-17</td>\n",
       "    </tr>\n",
       "    <tr>\n",
       "      <th>...</th>\n",
       "      <td>...</td>\n",
       "      <td>...</td>\n",
       "      <td>...</td>\n",
       "      <td>...</td>\n",
       "      <td>...</td>\n",
       "      <td>...</td>\n",
       "      <td>...</td>\n",
       "      <td>...</td>\n",
       "    </tr>\n",
       "    <tr>\n",
       "      <th>2753100</th>\n",
       "      <td>2022-11-16 22:39:00</td>\n",
       "      <td>1205.719971</td>\n",
       "      <td>51.230000</td>\n",
       "      <td>61776.988281</td>\n",
       "      <td>214</td>\n",
       "      <td>2022</td>\n",
       "      <td>2022-11</td>\n",
       "      <td>2022-11-16</td>\n",
       "    </tr>\n",
       "    <tr>\n",
       "      <th>2753101</th>\n",
       "      <td>2022-11-16 22:40:00</td>\n",
       "      <td>1206.150024</td>\n",
       "      <td>92.429901</td>\n",
       "      <td>111506.515625</td>\n",
       "      <td>243</td>\n",
       "      <td>2022</td>\n",
       "      <td>2022-11</td>\n",
       "      <td>2022-11-16</td>\n",
       "    </tr>\n",
       "    <tr>\n",
       "      <th>2753102</th>\n",
       "      <td>2022-11-16 22:41:00</td>\n",
       "      <td>1206.349976</td>\n",
       "      <td>129.377106</td>\n",
       "      <td>156018.796875</td>\n",
       "      <td>269</td>\n",
       "      <td>2022</td>\n",
       "      <td>2022-11</td>\n",
       "      <td>2022-11-16</td>\n",
       "    </tr>\n",
       "    <tr>\n",
       "      <th>2753103</th>\n",
       "      <td>2022-11-16 22:42:00</td>\n",
       "      <td>1205.550049</td>\n",
       "      <td>111.508202</td>\n",
       "      <td>134362.187500</td>\n",
       "      <td>294</td>\n",
       "      <td>2022</td>\n",
       "      <td>2022-11</td>\n",
       "      <td>2022-11-16</td>\n",
       "    </tr>\n",
       "    <tr>\n",
       "      <th>2753104</th>\n",
       "      <td>2022-11-16 22:43:00</td>\n",
       "      <td>1205.150024</td>\n",
       "      <td>143.301300</td>\n",
       "      <td>172776.796875</td>\n",
       "      <td>252</td>\n",
       "      <td>2022</td>\n",
       "      <td>2022-11</td>\n",
       "      <td>2022-11-16</td>\n",
       "    </tr>\n",
       "  </tbody>\n",
       "</table>\n",
       "<p>2753105 rows × 8 columns</p>\n",
       "</div>"
      ],
      "text/plain": [
       "                  open_time         open      volume  quote_asset_volume  \\\n",
       "0       2017-08-17 04:00:00   301.130005    0.426430          128.410873   \n",
       "1       2017-08-17 04:01:00   301.130005    2.757870          830.477417   \n",
       "2       2017-08-17 04:02:00   300.000000    0.099300           29.790001   \n",
       "3       2017-08-17 04:03:00   300.000000    0.313890           94.167000   \n",
       "4       2017-08-17 04:04:00   301.130005    0.232020           69.868179   \n",
       "...                     ...          ...         ...                 ...   \n",
       "2753100 2022-11-16 22:39:00  1205.719971   51.230000        61776.988281   \n",
       "2753101 2022-11-16 22:40:00  1206.150024   92.429901       111506.515625   \n",
       "2753102 2022-11-16 22:41:00  1206.349976  129.377106       156018.796875   \n",
       "2753103 2022-11-16 22:42:00  1205.550049  111.508202       134362.187500   \n",
       "2753104 2022-11-16 22:43:00  1205.150024  143.301300       172776.796875   \n",
       "\n",
       "         number_of_trades open_year open_month   open_day  \n",
       "0                       2      2017    2017-08 2017-08-17  \n",
       "1                       4      2017    2017-08 2017-08-17  \n",
       "2                       2      2017    2017-08 2017-08-17  \n",
       "3                       3      2017    2017-08 2017-08-17  \n",
       "4                       1      2017    2017-08 2017-08-17  \n",
       "...                   ...       ...        ...        ...  \n",
       "2753100               214      2022    2022-11 2022-11-16  \n",
       "2753101               243      2022    2022-11 2022-11-16  \n",
       "2753102               269      2022    2022-11 2022-11-16  \n",
       "2753103               294      2022    2022-11 2022-11-16  \n",
       "2753104               252      2022    2022-11 2022-11-16  \n",
       "\n",
       "[2753105 rows x 8 columns]"
      ]
     },
     "execution_count": 192,
     "metadata": {},
     "output_type": "execute_result"
    }
   ],
   "source": [
    "# 이더리움 데이터 확인\n",
    "df"
   ]
  },
  {
   "cell_type": "code",
   "execution_count": 193,
   "metadata": {},
   "outputs": [
    {
     "data": {
      "text/html": [
       "<div>\n",
       "<style scoped>\n",
       "    .dataframe tbody tr th:only-of-type {\n",
       "        vertical-align: middle;\n",
       "    }\n",
       "\n",
       "    .dataframe tbody tr th {\n",
       "        vertical-align: top;\n",
       "    }\n",
       "\n",
       "    .dataframe thead th {\n",
       "        text-align: right;\n",
       "    }\n",
       "</style>\n",
       "<table border=\"1\" class=\"dataframe\">\n",
       "  <thead>\n",
       "    <tr style=\"text-align: right;\">\n",
       "      <th></th>\n",
       "      <th>open_time</th>\n",
       "      <th>btc_price</th>\n",
       "      <th>volume</th>\n",
       "      <th>quote_asset_volume</th>\n",
       "      <th>number_of_trades</th>\n",
       "      <th>open_year</th>\n",
       "      <th>open_month</th>\n",
       "      <th>open_day</th>\n",
       "    </tr>\n",
       "  </thead>\n",
       "  <tbody>\n",
       "    <tr>\n",
       "      <th>0</th>\n",
       "      <td>2017-08-17 04:00:00</td>\n",
       "      <td>4261.479980</td>\n",
       "      <td>1.775183</td>\n",
       "      <td>7.564907e+03</td>\n",
       "      <td>3</td>\n",
       "      <td>2017</td>\n",
       "      <td>2017-08</td>\n",
       "      <td>2017-08-17</td>\n",
       "    </tr>\n",
       "    <tr>\n",
       "      <th>1</th>\n",
       "      <td>2017-08-17 04:01:00</td>\n",
       "      <td>4261.479980</td>\n",
       "      <td>0.000000</td>\n",
       "      <td>0.000000e+00</td>\n",
       "      <td>0</td>\n",
       "      <td>2017</td>\n",
       "      <td>2017-08</td>\n",
       "      <td>2017-08-17</td>\n",
       "    </tr>\n",
       "    <tr>\n",
       "      <th>2</th>\n",
       "      <td>2017-08-17 04:02:00</td>\n",
       "      <td>4280.560059</td>\n",
       "      <td>0.261074</td>\n",
       "      <td>1.117543e+03</td>\n",
       "      <td>2</td>\n",
       "      <td>2017</td>\n",
       "      <td>2017-08</td>\n",
       "      <td>2017-08-17</td>\n",
       "    </tr>\n",
       "    <tr>\n",
       "      <th>3</th>\n",
       "      <td>2017-08-17 04:03:00</td>\n",
       "      <td>4261.479980</td>\n",
       "      <td>0.012008</td>\n",
       "      <td>5.117185e+01</td>\n",
       "      <td>3</td>\n",
       "      <td>2017</td>\n",
       "      <td>2017-08</td>\n",
       "      <td>2017-08-17</td>\n",
       "    </tr>\n",
       "    <tr>\n",
       "      <th>4</th>\n",
       "      <td>2017-08-17 04:04:00</td>\n",
       "      <td>4261.479980</td>\n",
       "      <td>0.140796</td>\n",
       "      <td>5.999993e+02</td>\n",
       "      <td>1</td>\n",
       "      <td>2017</td>\n",
       "      <td>2017-08</td>\n",
       "      <td>2017-08-17</td>\n",
       "    </tr>\n",
       "    <tr>\n",
       "      <th>...</th>\n",
       "      <td>...</td>\n",
       "      <td>...</td>\n",
       "      <td>...</td>\n",
       "      <td>...</td>\n",
       "      <td>...</td>\n",
       "      <td>...</td>\n",
       "      <td>...</td>\n",
       "      <td>...</td>\n",
       "    </tr>\n",
       "    <tr>\n",
       "      <th>2753177</th>\n",
       "      <td>2022-11-16 23:55:00</td>\n",
       "      <td>16672.869141</td>\n",
       "      <td>47.899929</td>\n",
       "      <td>7.984622e+05</td>\n",
       "      <td>1523</td>\n",
       "      <td>NaN</td>\n",
       "      <td>2022-11</td>\n",
       "      <td>2022-11-16</td>\n",
       "    </tr>\n",
       "    <tr>\n",
       "      <th>2753178</th>\n",
       "      <td>2022-11-16 23:56:00</td>\n",
       "      <td>16666.060547</td>\n",
       "      <td>86.314827</td>\n",
       "      <td>1.438798e+06</td>\n",
       "      <td>2169</td>\n",
       "      <td>NaN</td>\n",
       "      <td>2022-11</td>\n",
       "      <td>2022-11-16</td>\n",
       "    </tr>\n",
       "    <tr>\n",
       "      <th>2753179</th>\n",
       "      <td>2022-11-16 23:57:00</td>\n",
       "      <td>16675.179688</td>\n",
       "      <td>85.274879</td>\n",
       "      <td>1.421645e+06</td>\n",
       "      <td>2066</td>\n",
       "      <td>NaN</td>\n",
       "      <td>2022-11</td>\n",
       "      <td>2022-11-16</td>\n",
       "    </tr>\n",
       "    <tr>\n",
       "      <th>2753180</th>\n",
       "      <td>2022-11-16 23:58:00</td>\n",
       "      <td>16670.240234</td>\n",
       "      <td>56.534920</td>\n",
       "      <td>9.425971e+05</td>\n",
       "      <td>1605</td>\n",
       "      <td>NaN</td>\n",
       "      <td>2022-11</td>\n",
       "      <td>2022-11-16</td>\n",
       "    </tr>\n",
       "    <tr>\n",
       "      <th>2753181</th>\n",
       "      <td>2022-11-16 23:59:00</td>\n",
       "      <td>16674.310547</td>\n",
       "      <td>133.624603</td>\n",
       "      <td>2.227127e+06</td>\n",
       "      <td>2572</td>\n",
       "      <td>NaN</td>\n",
       "      <td>2022-11</td>\n",
       "      <td>2022-11-16</td>\n",
       "    </tr>\n",
       "  </tbody>\n",
       "</table>\n",
       "<p>2753182 rows × 8 columns</p>\n",
       "</div>"
      ],
      "text/plain": [
       "                  open_time     btc_price      volume  quote_asset_volume  \\\n",
       "0       2017-08-17 04:00:00   4261.479980    1.775183        7.564907e+03   \n",
       "1       2017-08-17 04:01:00   4261.479980    0.000000        0.000000e+00   \n",
       "2       2017-08-17 04:02:00   4280.560059    0.261074        1.117543e+03   \n",
       "3       2017-08-17 04:03:00   4261.479980    0.012008        5.117185e+01   \n",
       "4       2017-08-17 04:04:00   4261.479980    0.140796        5.999993e+02   \n",
       "...                     ...           ...         ...                 ...   \n",
       "2753177 2022-11-16 23:55:00  16672.869141   47.899929        7.984622e+05   \n",
       "2753178 2022-11-16 23:56:00  16666.060547   86.314827        1.438798e+06   \n",
       "2753179 2022-11-16 23:57:00  16675.179688   85.274879        1.421645e+06   \n",
       "2753180 2022-11-16 23:58:00  16670.240234   56.534920        9.425971e+05   \n",
       "2753181 2022-11-16 23:59:00  16674.310547  133.624603        2.227127e+06   \n",
       "\n",
       "         number_of_trades open_year open_month   open_day  \n",
       "0                       3      2017    2017-08 2017-08-17  \n",
       "1                       0      2017    2017-08 2017-08-17  \n",
       "2                       2      2017    2017-08 2017-08-17  \n",
       "3                       3      2017    2017-08 2017-08-17  \n",
       "4                       1      2017    2017-08 2017-08-17  \n",
       "...                   ...       ...        ...        ...  \n",
       "2753177              1523       NaN    2022-11 2022-11-16  \n",
       "2753178              2169       NaN    2022-11 2022-11-16  \n",
       "2753179              2066       NaN    2022-11 2022-11-16  \n",
       "2753180              1605       NaN    2022-11 2022-11-16  \n",
       "2753181              2572       NaN    2022-11 2022-11-16  \n",
       "\n",
       "[2753182 rows x 8 columns]"
      ]
     },
     "execution_count": 193,
     "metadata": {},
     "output_type": "execute_result"
    }
   ],
   "source": [
    "# 비트코인 데이터 확인\n",
    "btc_df"
   ]
  },
  {
   "cell_type": "code",
   "execution_count": 195,
   "metadata": {},
   "outputs": [],
   "source": [
    "# 데이터 병합\n",
    "df=pd.merge(df,btc_df[[\"open_time\",\"btc_price\"]],how=\"inner\",on=\"open_time\")"
   ]
  },
  {
   "cell_type": "code",
   "execution_count": 196,
   "metadata": {},
   "outputs": [
    {
     "name": "stderr",
     "output_type": "stream",
     "text": [
      "C:\\Users\\KDP-024\\AppData\\Local\\Temp\\ipykernel_1656\\303365940.py:7: UserWarning: FixedFormatter should only be used together with FixedLocator\n",
      "  ax1.set_xticklabels(rotation=90,labels=df[[\"open\",\"open_month\"]].groupby(by=\"open_month\").mean().index)\n"
     ]
    },
    {
     "data": {
      "image/png": "[encoded data removed]",
      "text/plain": [
       "<Figure size 2000x1000 with 2 Axes>"
      ]
     },
     "metadata": {},
     "output_type": "display_data"
    }
   ],
   "source": [
    "# 검색량과 이더리움 가격과의 관계를 보기 위해 시각화\n",
    "fig = plt.figure(figsize=(20,10))\n",
    "ax1 = fig.subplots()\n",
    "ax1.plot(df[[\"open\",\"open_month\"]].groupby(by=\"open_month\").mean().index, df[[\"open\",\"open_month\"]].groupby(by=\"open_month\").mean()[\"open\"].values, color = 'red', alpha = 0.5)\n",
    "ax2 = ax1.twinx()\n",
    "ax2.plot(df[[\"open\",\"open_month\"]].groupby(by=\"open_month\").mean().index, eth_search_df[\"이더리움: (전 세계)\"].values, color = 'blue', alpha = 0.5)\n",
    "ax1.set_xticklabels(rotation=90,labels=df[[\"open\",\"open_month\"]].groupby(by=\"open_month\").mean().index)\n",
    "plt.show()"
   ]
  },
  {
   "cell_type": "code",
   "execution_count": 198,
   "metadata": {},
   "outputs": [],
   "source": [
    "from sklearn.linear_model import LinearRegression\n",
    "from xgboost import XGBClassifier,XGBRFRegressor\n",
    "from sklearn.model_selection import train_test_split"
   ]
  },
  {
   "cell_type": "code",
   "execution_count": 199,
   "metadata": {},
   "outputs": [
    {
     "name": "stdout",
     "output_type": "stream",
     "text": [
      "0.9486284670157741\n",
      "0.4187470725263589\n"
     ]
    }
   ],
   "source": [
    "trainx,testx,trainy,testy = train_test_split(eth_search_df[\"이더리움: (전 세계)\"].to_frame(),df[[\"open\",\"open_month\"]].groupby(by=\"open_month\").mean()[\"open\"])\n",
    "\n",
    "# 검색의 경우 효과적이지 효과적으로 예측하지 못함\n",
    "x1 =XGBRFRegressor()\n",
    "x1.fit(trainx,trainy)\n",
    "print(x1.score(trainx,trainy))\n",
    "print(x1.score(testx,testy))"
   ]
  },
  {
   "cell_type": "code",
   "execution_count": 203,
   "metadata": {},
   "outputs": [],
   "source": [
    "eth_price_change_df=pd.read_csv(\"../project/data/eth_가격.csv\").drop(columns=[\"Unnamed: 0\"])"
   ]
  },
  {
   "cell_type": "code",
   "execution_count": 204,
   "metadata": {},
   "outputs": [
    {
     "data": {
      "text/html": [
       "<div>\n",
       "<style scoped>\n",
       "    .dataframe tbody tr th:only-of-type {\n",
       "        vertical-align: middle;\n",
       "    }\n",
       "\n",
       "    .dataframe tbody tr th {\n",
       "        vertical-align: top;\n",
       "    }\n",
       "\n",
       "    .dataframe thead th {\n",
       "        text-align: right;\n",
       "    }\n",
       "</style>\n",
       "<table border=\"1\" class=\"dataframe\">\n",
       "  <thead>\n",
       "    <tr style=\"text-align: right;\">\n",
       "      <th></th>\n",
       "      <th>open_day</th>\n",
       "      <th>change_day</th>\n",
       "    </tr>\n",
       "  </thead>\n",
       "  <tbody>\n",
       "    <tr>\n",
       "      <th>0</th>\n",
       "      <td>2017-08-17</td>\n",
       "      <td>0.869995</td>\n",
       "    </tr>\n",
       "    <tr>\n",
       "      <th>1</th>\n",
       "      <td>2017-08-18</td>\n",
       "      <td>-8.040009</td>\n",
       "    </tr>\n",
       "    <tr>\n",
       "      <th>2</th>\n",
       "      <td>2017-08-19</td>\n",
       "      <td>-3.049988</td>\n",
       "    </tr>\n",
       "    <tr>\n",
       "      <th>3</th>\n",
       "      <td>2017-08-20</td>\n",
       "      <td>8.190002</td>\n",
       "    </tr>\n",
       "    <tr>\n",
       "      <th>4</th>\n",
       "      <td>2017-08-21</td>\n",
       "      <td>24.190002</td>\n",
       "    </tr>\n",
       "    <tr>\n",
       "      <th>...</th>\n",
       "      <td>...</td>\n",
       "      <td>...</td>\n",
       "    </tr>\n",
       "    <tr>\n",
       "      <th>1913</th>\n",
       "      <td>2022-11-12</td>\n",
       "      <td>-32.939940</td>\n",
       "    </tr>\n",
       "    <tr>\n",
       "      <th>1914</th>\n",
       "      <td>2022-11-13</td>\n",
       "      <td>-35.900024</td>\n",
       "    </tr>\n",
       "    <tr>\n",
       "      <th>1915</th>\n",
       "      <td>2022-11-14</td>\n",
       "      <td>20.699951</td>\n",
       "    </tr>\n",
       "    <tr>\n",
       "      <th>1916</th>\n",
       "      <td>2022-11-15</td>\n",
       "      <td>10.209961</td>\n",
       "    </tr>\n",
       "    <tr>\n",
       "      <th>1917</th>\n",
       "      <td>2022-11-16</td>\n",
       "      <td>-48.069946</td>\n",
       "    </tr>\n",
       "  </tbody>\n",
       "</table>\n",
       "<p>1918 rows × 2 columns</p>\n",
       "</div>"
      ],
      "text/plain": [
       "        open_day  change_day\n",
       "0     2017-08-17    0.869995\n",
       "1     2017-08-18   -8.040009\n",
       "2     2017-08-19   -3.049988\n",
       "3     2017-08-20    8.190002\n",
       "4     2017-08-21   24.190002\n",
       "...          ...         ...\n",
       "1913  2022-11-12  -32.939940\n",
       "1914  2022-11-13  -35.900024\n",
       "1915  2022-11-14   20.699951\n",
       "1916  2022-11-15   10.209961\n",
       "1917  2022-11-16  -48.069946\n",
       "\n",
       "[1918 rows x 2 columns]"
      ]
     },
     "execution_count": 204,
     "metadata": {},
     "output_type": "execute_result"
    }
   ],
   "source": [
    "# 이더리움 가격 일일변화량\n",
    "eth_price_change_df"
   ]
  },
  {
   "cell_type": "code",
   "execution_count": 366,
   "metadata": {},
   "outputs": [
    {
     "data": {
      "text/plain": [
       "[<matplotlib.lines.Line2D at 0x1b065ce7160>]"
      ]
     },
     "execution_count": 366,
     "metadata": {},
     "output_type": "execute_result"
    },
    {
     "data": {
      "image/png": "[encoded data removed]",
      "text/plain": [
       "<Figure size 640x480 with 1 Axes>"
      ]
     },
     "metadata": {},
     "output_type": "display_data"
    }
   ],
   "source": [
    "# 가격 변화량을 시각화해서 확인\n",
    "plt.plot(eth_price_change_df[\"open_day\"],eth_price_change_df[\"change_day\"],color=\"g\")"
   ]
  },
  {
   "cell_type": "code",
   "execution_count": 206,
   "metadata": {},
   "outputs": [
    {
     "data": {
      "text/plain": [
       "<Axes: xlabel='open_day', ylabel='change_day'>"
      ]
     },
     "execution_count": 206,
     "metadata": {},
     "output_type": "execute_result"
    },
    {
     "data": {
      "image/png": "[encoded data removed]",
      "text/plain": [
       "<Figure size 640x480 with 1 Axes>"
      ]
     },
     "metadata": {},
     "output_type": "display_data"
    }
   ],
   "source": [
    "# 가격 변화량을 시각화해서 확인\n",
    "import matplotlib.font_manager as fm\n",
    "font_path = r'c:\\USERS\\KDP-024\\APPDATA\\LOCAL\\MICROSOFT\\WINDOWS\\FONTS\\KBO DIA GOTHIC_BOLD.TTF'\n",
    "font_name = fm.FontProperties(fname=font_path).get_name()\n",
    "plt.rcParams['font.size'] = 25\n",
    "fig = plt.figure(figsize=(20,10))\n",
    "ax1 = fig.subplots()\n",
    "ax1.plot(df.loc[::,\"open_time\"], df.loc[::,\"open\"], color = 'blue', alpha = 0.5)\n",
    "ax1.set_title(\"이더리움 가격\",fontproperties=font_name)\n",
    "ax1.set_xticklabels(labels=[2017,2018,2019,2020,2021,2022,2023],fontproperties=font_name)\n",
    "ax1.set_ylabel(\"가격($)\",fontproperties=font_name)\n",
    "ax1.set_xlabel(\"년도\",fontproperties=font_name)\n",
    "ax2 = ax1.twinx()\n",
    "ax2.plot(df.loc[::,\"open_time\"], df.loc[::,\"number_of_trades\"], color = 'red', alpha = 0.5)\n",
    "ax2.set_ylabel(\"거래수(건)\",fontproperties=font_name)\n",
    "plt.show()\n",
    "sns.barplot(x=eth_price_change_df[\"open_day\"],y=eth_price_change_df[\"change_day\"])"
   ]
  },
  {
   "cell_type": "code",
   "execution_count": 207,
   "metadata": {},
   "outputs": [],
   "source": [
    "# datetime으로 형변환\n",
    "eth_price_change_df[\"open_day\"]=pd.to_datetime(eth_price_change_df[\"open_day\"])"
   ]
  },
  {
   "cell_type": "code",
   "execution_count": 209,
   "metadata": {},
   "outputs": [
    {
     "data": {
      "text/plain": [
       "0      2017-08-17\n",
       "1      2017-08-18\n",
       "2      2017-08-19\n",
       "3      2017-08-20\n",
       "4      2017-08-21\n",
       "          ...    \n",
       "1913   2022-11-12\n",
       "1914   2022-11-13\n",
       "1915   2022-11-14\n",
       "1916   2022-11-15\n",
       "1917   2022-11-16\n",
       "Name: open_day, Length: 1918, dtype: datetime64[ns]"
      ]
     },
     "execution_count": 209,
     "metadata": {},
     "output_type": "execute_result"
    }
   ],
   "source": [
    "# 형변환 확인\n",
    "eth_price_change_df[\"open_day\"]"
   ]
  },
  {
   "cell_type": "code",
   "execution_count": 211,
   "metadata": {},
   "outputs": [],
   "source": [
    "# 데이터프레임 병합\n",
    "df=pd.merge(df,eth_price_change_df,how=\"inner\",on=\"open_day\")"
   ]
  },
  {
   "cell_type": "code",
   "execution_count": 213,
   "metadata": {},
   "outputs": [
    {
     "data": {
      "text/plain": [
       "{'whiskers': [<matplotlib.lines.Line2D at 0x1af5dca7460>,\n",
       "  <matplotlib.lines.Line2D at 0x1af5dca7640>],\n",
       " 'caps': [<matplotlib.lines.Line2D at 0x1af5dca79d0>,\n",
       "  <matplotlib.lines.Line2D at 0x1af5dca7d30>],\n",
       " 'boxes': [<matplotlib.lines.Line2D at 0x1af5dca72b0>],\n",
       " 'medians': [<matplotlib.lines.Line2D at 0x1af5dca7ee0>],\n",
       " 'fliers': [<matplotlib.lines.Line2D at 0x1af5dca4370>],\n",
       " 'means': []}"
      ]
     },
     "execution_count": 213,
     "metadata": {},
     "output_type": "execute_result"
    },
    {
     "data": {
      "image/png": "[encoded data removed]",
      "text/plain": [
       "<Figure size 640x480 with 1 Axes>"
      ]
     },
     "metadata": {},
     "output_type": "display_data"
    }
   ],
   "source": [
    "# boxplot으로 이상치 확인\n",
    "# 가격데이터라서 쉽사리 제거x\n",
    "plt.boxplot(eth_price_change_df[\"change_day\"])"
   ]
  },
  {
   "cell_type": "code",
   "execution_count": 214,
   "metadata": {},
   "outputs": [],
   "source": [
    "# 파생변수 만들기 가격변화량이 양수면 1, 음수면 0\n",
    "df[\"change_day_dummy\"] =df[\"change_day\"] >0\n",
    "df[\"change_day_dummy\"]=df[\"change_day_dummy\"].astype(int)"
   ]
  },
  {
   "cell_type": "code",
   "execution_count": 216,
   "metadata": {},
   "outputs": [
    {
     "data": {
      "text/html": [
       "<div>\n",
       "<style scoped>\n",
       "    .dataframe tbody tr th:only-of-type {\n",
       "        vertical-align: middle;\n",
       "    }\n",
       "\n",
       "    .dataframe tbody tr th {\n",
       "        vertical-align: top;\n",
       "    }\n",
       "\n",
       "    .dataframe thead th {\n",
       "        text-align: right;\n",
       "    }\n",
       "</style>\n",
       "<table border=\"1\" class=\"dataframe\">\n",
       "  <thead>\n",
       "    <tr style=\"text-align: right;\">\n",
       "      <th></th>\n",
       "      <th>open_time</th>\n",
       "      <th>open</th>\n",
       "      <th>volume</th>\n",
       "      <th>quote_asset_volume</th>\n",
       "      <th>number_of_trades</th>\n",
       "      <th>open_year</th>\n",
       "      <th>open_month</th>\n",
       "      <th>open_day</th>\n",
       "      <th>btc_price</th>\n",
       "      <th>change_day</th>\n",
       "      <th>change_day_dummy</th>\n",
       "    </tr>\n",
       "  </thead>\n",
       "  <tbody>\n",
       "    <tr>\n",
       "      <th>0</th>\n",
       "      <td>2017-08-17 04:00:00</td>\n",
       "      <td>301.130005</td>\n",
       "      <td>0.426430</td>\n",
       "      <td>128.410873</td>\n",
       "      <td>2</td>\n",
       "      <td>2017</td>\n",
       "      <td>2017-08</td>\n",
       "      <td>2017-08-17</td>\n",
       "      <td>4261.479980</td>\n",
       "      <td>0.869995</td>\n",
       "      <td>1</td>\n",
       "    </tr>\n",
       "    <tr>\n",
       "      <th>1</th>\n",
       "      <td>2017-08-17 04:01:00</td>\n",
       "      <td>301.130005</td>\n",
       "      <td>2.757870</td>\n",
       "      <td>830.477417</td>\n",
       "      <td>4</td>\n",
       "      <td>2017</td>\n",
       "      <td>2017-08</td>\n",
       "      <td>2017-08-17</td>\n",
       "      <td>4261.479980</td>\n",
       "      <td>0.869995</td>\n",
       "      <td>1</td>\n",
       "    </tr>\n",
       "    <tr>\n",
       "      <th>2</th>\n",
       "      <td>2017-08-17 04:02:00</td>\n",
       "      <td>300.000000</td>\n",
       "      <td>0.099300</td>\n",
       "      <td>29.790001</td>\n",
       "      <td>2</td>\n",
       "      <td>2017</td>\n",
       "      <td>2017-08</td>\n",
       "      <td>2017-08-17</td>\n",
       "      <td>4280.560059</td>\n",
       "      <td>0.869995</td>\n",
       "      <td>1</td>\n",
       "    </tr>\n",
       "    <tr>\n",
       "      <th>3</th>\n",
       "      <td>2017-08-17 04:03:00</td>\n",
       "      <td>300.000000</td>\n",
       "      <td>0.313890</td>\n",
       "      <td>94.167000</td>\n",
       "      <td>3</td>\n",
       "      <td>2017</td>\n",
       "      <td>2017-08</td>\n",
       "      <td>2017-08-17</td>\n",
       "      <td>4261.479980</td>\n",
       "      <td>0.869995</td>\n",
       "      <td>1</td>\n",
       "    </tr>\n",
       "    <tr>\n",
       "      <th>4</th>\n",
       "      <td>2017-08-17 04:04:00</td>\n",
       "      <td>301.130005</td>\n",
       "      <td>0.232020</td>\n",
       "      <td>69.868179</td>\n",
       "      <td>1</td>\n",
       "      <td>2017</td>\n",
       "      <td>2017-08</td>\n",
       "      <td>2017-08-17</td>\n",
       "      <td>4261.479980</td>\n",
       "      <td>0.869995</td>\n",
       "      <td>1</td>\n",
       "    </tr>\n",
       "    <tr>\n",
       "      <th>...</th>\n",
       "      <td>...</td>\n",
       "      <td>...</td>\n",
       "      <td>...</td>\n",
       "      <td>...</td>\n",
       "      <td>...</td>\n",
       "      <td>...</td>\n",
       "      <td>...</td>\n",
       "      <td>...</td>\n",
       "      <td>...</td>\n",
       "      <td>...</td>\n",
       "      <td>...</td>\n",
       "    </tr>\n",
       "    <tr>\n",
       "      <th>2731500</th>\n",
       "      <td>2022-11-16 22:39:00</td>\n",
       "      <td>1205.719971</td>\n",
       "      <td>51.230000</td>\n",
       "      <td>61776.988281</td>\n",
       "      <td>214</td>\n",
       "      <td>2022</td>\n",
       "      <td>2022-11</td>\n",
       "      <td>2022-11-16</td>\n",
       "      <td>16534.839844</td>\n",
       "      <td>-48.069946</td>\n",
       "      <td>0</td>\n",
       "    </tr>\n",
       "    <tr>\n",
       "      <th>2731501</th>\n",
       "      <td>2022-11-16 22:40:00</td>\n",
       "      <td>1206.150024</td>\n",
       "      <td>92.429901</td>\n",
       "      <td>111506.515625</td>\n",
       "      <td>243</td>\n",
       "      <td>2022</td>\n",
       "      <td>2022-11</td>\n",
       "      <td>2022-11-16</td>\n",
       "      <td>16542.029297</td>\n",
       "      <td>-48.069946</td>\n",
       "      <td>0</td>\n",
       "    </tr>\n",
       "    <tr>\n",
       "      <th>2731502</th>\n",
       "      <td>2022-11-16 22:41:00</td>\n",
       "      <td>1206.349976</td>\n",
       "      <td>129.377106</td>\n",
       "      <td>156018.796875</td>\n",
       "      <td>269</td>\n",
       "      <td>2022</td>\n",
       "      <td>2022-11</td>\n",
       "      <td>2022-11-16</td>\n",
       "      <td>16544.669922</td>\n",
       "      <td>-48.069946</td>\n",
       "      <td>0</td>\n",
       "    </tr>\n",
       "    <tr>\n",
       "      <th>2731503</th>\n",
       "      <td>2022-11-16 22:42:00</td>\n",
       "      <td>1205.550049</td>\n",
       "      <td>111.508202</td>\n",
       "      <td>134362.187500</td>\n",
       "      <td>294</td>\n",
       "      <td>2022</td>\n",
       "      <td>2022-11</td>\n",
       "      <td>2022-11-16</td>\n",
       "      <td>16539.300781</td>\n",
       "      <td>-48.069946</td>\n",
       "      <td>0</td>\n",
       "    </tr>\n",
       "    <tr>\n",
       "      <th>2731504</th>\n",
       "      <td>2022-11-16 22:43:00</td>\n",
       "      <td>1205.150024</td>\n",
       "      <td>143.301300</td>\n",
       "      <td>172776.796875</td>\n",
       "      <td>252</td>\n",
       "      <td>2022</td>\n",
       "      <td>2022-11</td>\n",
       "      <td>2022-11-16</td>\n",
       "      <td>16537.009766</td>\n",
       "      <td>-48.069946</td>\n",
       "      <td>0</td>\n",
       "    </tr>\n",
       "  </tbody>\n",
       "</table>\n",
       "<p>2731505 rows × 11 columns</p>\n",
       "</div>"
      ],
      "text/plain": [
       "                  open_time         open      volume  quote_asset_volume  \\\n",
       "0       2017-08-17 04:00:00   301.130005    0.426430          128.410873   \n",
       "1       2017-08-17 04:01:00   301.130005    2.757870          830.477417   \n",
       "2       2017-08-17 04:02:00   300.000000    0.099300           29.790001   \n",
       "3       2017-08-17 04:03:00   300.000000    0.313890           94.167000   \n",
       "4       2017-08-17 04:04:00   301.130005    0.232020           69.868179   \n",
       "...                     ...          ...         ...                 ...   \n",
       "2731500 2022-11-16 22:39:00  1205.719971   51.230000        61776.988281   \n",
       "2731501 2022-11-16 22:40:00  1206.150024   92.429901       111506.515625   \n",
       "2731502 2022-11-16 22:41:00  1206.349976  129.377106       156018.796875   \n",
       "2731503 2022-11-16 22:42:00  1205.550049  111.508202       134362.187500   \n",
       "2731504 2022-11-16 22:43:00  1205.150024  143.301300       172776.796875   \n",
       "\n",
       "         number_of_trades open_year open_month   open_day     btc_price  \\\n",
       "0                       2      2017    2017-08 2017-08-17   4261.479980   \n",
       "1                       4      2017    2017-08 2017-08-17   4261.479980   \n",
       "2                       2      2017    2017-08 2017-08-17   4280.560059   \n",
       "3                       3      2017    2017-08 2017-08-17   4261.479980   \n",
       "4                       1      2017    2017-08 2017-08-17   4261.479980   \n",
       "...                   ...       ...        ...        ...           ...   \n",
       "2731500               214      2022    2022-11 2022-11-16  16534.839844   \n",
       "2731501               243      2022    2022-11 2022-11-16  16542.029297   \n",
       "2731502               269      2022    2022-11 2022-11-16  16544.669922   \n",
       "2731503               294      2022    2022-11 2022-11-16  16539.300781   \n",
       "2731504               252      2022    2022-11 2022-11-16  16537.009766   \n",
       "\n",
       "         change_day  change_day_dummy  \n",
       "0          0.869995                 1  \n",
       "1          0.869995                 1  \n",
       "2          0.869995                 1  \n",
       "3          0.869995                 1  \n",
       "4          0.869995                 1  \n",
       "...             ...               ...  \n",
       "2731500  -48.069946                 0  \n",
       "2731501  -48.069946                 0  \n",
       "2731502  -48.069946                 0  \n",
       "2731503  -48.069946                 0  \n",
       "2731504  -48.069946                 0  \n",
       "\n",
       "[2731505 rows x 11 columns]"
      ]
     },
     "execution_count": 216,
     "metadata": {},
     "output_type": "execute_result"
    }
   ],
   "source": [
    "# 데이터 확인\n",
    "df"
   ]
  },
  {
   "cell_type": "code",
   "execution_count": 217,
   "metadata": {},
   "outputs": [],
   "source": [
    "# 푸리에 변환\n",
    "import numpy as np\n",
    "def get_fft(data):\n",
    "    fft = np.fft.fft(data) / len(data)  \n",
    "    fft_result = abs(fft)\n",
    "    return fft_result"
   ]
  },
  {
   "cell_type": "code",
   "execution_count": 218,
   "metadata": {},
   "outputs": [
    {
     "data": {
      "text/plain": [
       "[<matplotlib.lines.Line2D at 0x1af588c6650>]"
      ]
     },
     "execution_count": 218,
     "metadata": {},
     "output_type": "execute_result"
    },
    {
     "data": {
      "image/png": "[encoded data removed]",
      "text/plain": [
       "<Figure size 640x480 with 2 Axes>"
      ]
     },
     "metadata": {},
     "output_type": "display_data"
    }
   ],
   "source": [
    "# 푸리에변환 시각화\n",
    "start_index = 2000000\n",
    "stop_index = 2001440\n",
    "start_index = start_index + 1440\n",
    "stop_index = stop_index + 1440\n",
    "original = df[\"open\"][start_index:stop_index]\n",
    "\n",
    "fig = plt.figure()\n",
    "ax= fig.add_subplot(111)\n",
    "ax.plot(np.arange(0,len(original)),original)\n",
    "\n",
    "ax2 = ax.twinx()\n",
    "_fft= get_fft(original)\n",
    "\n",
    "ax2.plot(_fft[1:],c=\"red\")"
   ]
  },
  {
   "cell_type": "code",
   "execution_count": 220,
   "metadata": {},
   "outputs": [
    {
     "name": "stdout",
     "output_type": "stream",
     "text": [
      "0.5834594844735026\n",
      "0.58188686522967\n"
     ]
    }
   ],
   "source": [
    "# 거래량과 거래수를 독립 변수으로 하여 가격을 추정\n",
    "trainx,testx,trainy,testy = train_test_split(df[[\"quote_asset_volume\",\"number_of_trades\"]],df[\"open\"])\n",
    "\n",
    "# 2개의 변수만 가지고는 효과적이지 않음\n",
    "l1 =XGBRFRegressor()\n",
    "l1.fit(trainx,trainy)\n",
    "print(l1.score(trainx,trainy))\n",
    "print(l1.score(testx,testy))"
   ]
  },
  {
   "cell_type": "code",
   "execution_count": 222,
   "metadata": {},
   "outputs": [],
   "source": [
    "# 참고 논문 (다변량 분석을 적용한 비트코인 가격 등락에 미치는 영향 연구) 으로 금시세를 독립변수로 추가\n",
    "gold = pd.read_csv(\"../project/data/금 선물 과거 데이터.csv\")\n",
    "gold=gold[[\"날짜\",\"시가\"]]\n",
    "gold.columns=[\"open_day\",\"gold_price\"]\n",
    "gold=gold[::-1]\n",
    "gold=gold.reset_index(drop=True)\n",
    "gold[\"open_day\"]=pd.to_datetime(gold[\"open_day\"])"
   ]
  },
  {
   "cell_type": "code",
   "execution_count": 225,
   "metadata": {},
   "outputs": [],
   "source": [
    "# 기존 데이터와 병합\n",
    "df=pd.merge(df,gold,how=\"left\")"
   ]
  },
  {
   "cell_type": "code",
   "execution_count": 227,
   "metadata": {},
   "outputs": [],
   "source": [
    "# 금시세로 인한 결측치 채움\n",
    "df=df.fillna(method=\"ffill\")"
   ]
  },
  {
   "cell_type": "code",
   "execution_count": 228,
   "metadata": {},
   "outputs": [],
   "source": [
    "# 금시세 데이터가 str이라서 float로 형변환\n",
    "df[\"gold_price\"]=df[\"gold_price\"].str.replace(\",\",\"\").astype(float)"
   ]
  },
  {
   "cell_type": "code",
   "execution_count": 230,
   "metadata": {},
   "outputs": [
    {
     "data": {
      "text/html": [
       "<div>\n",
       "<style scoped>\n",
       "    .dataframe tbody tr th:only-of-type {\n",
       "        vertical-align: middle;\n",
       "    }\n",
       "\n",
       "    .dataframe tbody tr th {\n",
       "        vertical-align: top;\n",
       "    }\n",
       "\n",
       "    .dataframe thead th {\n",
       "        text-align: right;\n",
       "    }\n",
       "</style>\n",
       "<table border=\"1\" class=\"dataframe\">\n",
       "  <thead>\n",
       "    <tr style=\"text-align: right;\">\n",
       "      <th></th>\n",
       "      <th>open</th>\n",
       "      <th>volume</th>\n",
       "      <th>quote_asset_volume</th>\n",
       "      <th>number_of_trades</th>\n",
       "      <th>change_day</th>\n",
       "      <th>gold_price</th>\n",
       "      <th>btc_price</th>\n",
       "    </tr>\n",
       "  </thead>\n",
       "  <tbody>\n",
       "    <tr>\n",
       "      <th>open</th>\n",
       "      <td>1.000000</td>\n",
       "      <td>0.065504</td>\n",
       "      <td>0.419758</td>\n",
       "      <td>0.411582</td>\n",
       "      <td>-0.004081</td>\n",
       "      <td>0.581542</td>\n",
       "      <td>0.925850</td>\n",
       "    </tr>\n",
       "    <tr>\n",
       "      <th>volume</th>\n",
       "      <td>0.065504</td>\n",
       "      <td>1.000000</td>\n",
       "      <td>0.696648</td>\n",
       "      <td>0.706431</td>\n",
       "      <td>-0.035316</td>\n",
       "      <td>0.252085</td>\n",
       "      <td>0.123268</td>\n",
       "    </tr>\n",
       "    <tr>\n",
       "      <th>quote_asset_volume</th>\n",
       "      <td>0.419758</td>\n",
       "      <td>0.696648</td>\n",
       "      <td>1.000000</td>\n",
       "      <td>0.906997</td>\n",
       "      <td>-0.058644</td>\n",
       "      <td>0.341516</td>\n",
       "      <td>0.432738</td>\n",
       "    </tr>\n",
       "    <tr>\n",
       "      <th>number_of_trades</th>\n",
       "      <td>0.411582</td>\n",
       "      <td>0.706431</td>\n",
       "      <td>0.906997</td>\n",
       "      <td>1.000000</td>\n",
       "      <td>-0.040131</td>\n",
       "      <td>0.368972</td>\n",
       "      <td>0.435968</td>\n",
       "    </tr>\n",
       "    <tr>\n",
       "      <th>change_day</th>\n",
       "      <td>-0.004081</td>\n",
       "      <td>-0.035316</td>\n",
       "      <td>-0.058644</td>\n",
       "      <td>-0.040131</td>\n",
       "      <td>1.000000</td>\n",
       "      <td>0.001684</td>\n",
       "      <td>0.027857</td>\n",
       "    </tr>\n",
       "    <tr>\n",
       "      <th>gold_price</th>\n",
       "      <td>0.581542</td>\n",
       "      <td>0.252085</td>\n",
       "      <td>0.341516</td>\n",
       "      <td>0.368972</td>\n",
       "      <td>0.001684</td>\n",
       "      <td>1.000000</td>\n",
       "      <td>0.656039</td>\n",
       "    </tr>\n",
       "    <tr>\n",
       "      <th>btc_price</th>\n",
       "      <td>0.925850</td>\n",
       "      <td>0.123268</td>\n",
       "      <td>0.432738</td>\n",
       "      <td>0.435968</td>\n",
       "      <td>0.027857</td>\n",
       "      <td>0.656039</td>\n",
       "      <td>1.000000</td>\n",
       "    </tr>\n",
       "  </tbody>\n",
       "</table>\n",
       "</div>"
      ],
      "text/plain": [
       "                        open    volume  quote_asset_volume  number_of_trades  \\\n",
       "open                1.000000  0.065504            0.419758          0.411582   \n",
       "volume              0.065504  1.000000            0.696648          0.706431   \n",
       "quote_asset_volume  0.419758  0.696648            1.000000          0.906997   \n",
       "number_of_trades    0.411582  0.706431            0.906997          1.000000   \n",
       "change_day         -0.004081 -0.035316           -0.058644         -0.040131   \n",
       "gold_price          0.581542  0.252085            0.341516          0.368972   \n",
       "btc_price           0.925850  0.123268            0.432738          0.435968   \n",
       "\n",
       "                    change_day  gold_price  btc_price  \n",
       "open                 -0.004081    0.581542   0.925850  \n",
       "volume               -0.035316    0.252085   0.123268  \n",
       "quote_asset_volume   -0.058644    0.341516   0.432738  \n",
       "number_of_trades     -0.040131    0.368972   0.435968  \n",
       "change_day            1.000000    0.001684   0.027857  \n",
       "gold_price            0.001684    1.000000   0.656039  \n",
       "btc_price             0.027857    0.656039   1.000000  "
      ]
     },
     "execution_count": 230,
     "metadata": {},
     "output_type": "execute_result"
    }
   ],
   "source": [
    "# 데이터 상관관계 확인\n",
    "df[[\"open\",\"volume\",\"quote_asset_volume\",\"number_of_trades\",\"change_day\",\"gold_price\",\"btc_price\"]].corr()"
   ]
  },
  {
   "cell_type": "code",
   "execution_count": 312,
   "metadata": {},
   "outputs": [],
   "source": [
    "# 데이터 불균형을 해소하기 위해서 오버샘플링\n",
    "from imblearn.over_sampling import RandomOverSampler"
   ]
  },
  {
   "cell_type": "code",
   "execution_count": 313,
   "metadata": {},
   "outputs": [],
   "source": [
    "# 오버샘플링\n",
    "oversample = RandomOverSampler(sampling_strategy=\"minority\")\n",
    "X_over, y_over = oversample.fit_resample(df[[\"gold_price\",\"volume\",\"number_of_trades\"]], df[\"change_day_dummy\"])"
   ]
  },
  {
   "cell_type": "code",
   "execution_count": 326,
   "metadata": {},
   "outputs": [
    {
     "data": {
      "text/html": [
       "<div>\n",
       "<style scoped>\n",
       "    .dataframe tbody tr th:only-of-type {\n",
       "        vertical-align: middle;\n",
       "    }\n",
       "\n",
       "    .dataframe tbody tr th {\n",
       "        vertical-align: top;\n",
       "    }\n",
       "\n",
       "    .dataframe thead th {\n",
       "        text-align: right;\n",
       "    }\n",
       "</style>\n",
       "<table border=\"1\" class=\"dataframe\">\n",
       "  <thead>\n",
       "    <tr style=\"text-align: right;\">\n",
       "      <th></th>\n",
       "      <th>gold_price</th>\n",
       "      <th>volume</th>\n",
       "      <th>number_of_trades</th>\n",
       "    </tr>\n",
       "  </thead>\n",
       "  <tbody>\n",
       "    <tr>\n",
       "      <th>0</th>\n",
       "      <td>1290.0</td>\n",
       "      <td>0.426430</td>\n",
       "      <td>2</td>\n",
       "    </tr>\n",
       "    <tr>\n",
       "      <th>1</th>\n",
       "      <td>1290.0</td>\n",
       "      <td>2.757870</td>\n",
       "      <td>4</td>\n",
       "    </tr>\n",
       "    <tr>\n",
       "      <th>2</th>\n",
       "      <td>1290.0</td>\n",
       "      <td>0.099300</td>\n",
       "      <td>2</td>\n",
       "    </tr>\n",
       "    <tr>\n",
       "      <th>3</th>\n",
       "      <td>1290.0</td>\n",
       "      <td>0.313890</td>\n",
       "      <td>3</td>\n",
       "    </tr>\n",
       "    <tr>\n",
       "      <th>4</th>\n",
       "      <td>1290.0</td>\n",
       "      <td>0.232020</td>\n",
       "      <td>1</td>\n",
       "    </tr>\n",
       "    <tr>\n",
       "      <th>...</th>\n",
       "      <td>...</td>\n",
       "      <td>...</td>\n",
       "      <td>...</td>\n",
       "    </tr>\n",
       "    <tr>\n",
       "      <th>2777693</th>\n",
       "      <td>1356.6</td>\n",
       "      <td>176.894806</td>\n",
       "      <td>299</td>\n",
       "    </tr>\n",
       "    <tr>\n",
       "      <th>2777694</th>\n",
       "      <td>1821.4</td>\n",
       "      <td>536.604492</td>\n",
       "      <td>735</td>\n",
       "    </tr>\n",
       "    <tr>\n",
       "      <th>2777695</th>\n",
       "      <td>1901.4</td>\n",
       "      <td>68.424599</td>\n",
       "      <td>200</td>\n",
       "    </tr>\n",
       "    <tr>\n",
       "      <th>2777696</th>\n",
       "      <td>1835.8</td>\n",
       "      <td>741.505615</td>\n",
       "      <td>748</td>\n",
       "    </tr>\n",
       "    <tr>\n",
       "      <th>2777697</th>\n",
       "      <td>1796.9</td>\n",
       "      <td>59.435799</td>\n",
       "      <td>72</td>\n",
       "    </tr>\n",
       "  </tbody>\n",
       "</table>\n",
       "<p>2777698 rows × 3 columns</p>\n",
       "</div>"
      ],
      "text/plain": [
       "         gold_price      volume  number_of_trades\n",
       "0            1290.0    0.426430                 2\n",
       "1            1290.0    2.757870                 4\n",
       "2            1290.0    0.099300                 2\n",
       "3            1290.0    0.313890                 3\n",
       "4            1290.0    0.232020                 1\n",
       "...             ...         ...               ...\n",
       "2777693      1356.6  176.894806               299\n",
       "2777694      1821.4  536.604492               735\n",
       "2777695      1901.4   68.424599               200\n",
       "2777696      1835.8  741.505615               748\n",
       "2777697      1796.9   59.435799                72\n",
       "\n",
       "[2777698 rows x 3 columns]"
      ]
     },
     "execution_count": 326,
     "metadata": {},
     "output_type": "execute_result"
    }
   ],
   "source": [
    "X_over"
   ]
  },
  {
   "cell_type": "code",
   "execution_count": 378,
   "metadata": {},
   "outputs": [],
   "source": [
    "# 모듈로딩\n",
    "from sklearn.linear_model import LinearRegression,LogisticRegression\n",
    "from xgboost import XGBClassifier,XGBRegressor\n",
    "from sklearn.ensemble import RandomForestRegressor\n",
    "from sklearn.preprocessing import StandardScaler\n",
    "from sklearn.metrics import classification_report"
   ]
  },
  {
   "cell_type": "code",
   "execution_count": 293,
   "metadata": {},
   "outputs": [],
   "source": [
    "#  모델 객체선언 ,xgboost의 분류 모델\n",
    "l1  =XGBClassifier(n_estimators=500)"
   ]
  },
  {
   "cell_type": "code",
   "execution_count": 282,
   "metadata": {},
   "outputs": [],
   "source": [
    "# 스케일러\n",
    "scaler = StandardScaler()"
   ]
  },
  {
   "cell_type": "code",
   "execution_count": 327,
   "metadata": {},
   "outputs": [
    {
     "data": {
      "text/html": [
       "<style>#sk-container-id-15 {color: black;background-color: white;}#sk-container-id-15 pre{padding: 0;}#sk-container-id-15 div.sk-toggleable {background-color: white;}#sk-container-id-15 label.sk-toggleable__label {cursor: pointer;display: block;width: 100%;margin-bottom: 0;padding: 0.3em;box-sizing: border-box;text-align: center;}#sk-container-id-15 label.sk-toggleable__label-arrow:before {content: \"▸\";float: left;margin-right: 0.25em;color: #696969;}#sk-container-id-15 label.sk-toggleable__label-arrow:hover:before {color: black;}#sk-container-id-15 div.sk-estimator:hover label.sk-toggleable__label-arrow:before {color: black;}#sk-container-id-15 div.sk-toggleable__content {max-height: 0;max-width: 0;overflow: hidden;text-align: left;background-color: #f0f8ff;}#sk-container-id-15 div.sk-toggleable__content pre {margin: 0.2em;color: black;border-radius: 0.25em;background-color: #f0f8ff;}#sk-container-id-15 input.sk-toggleable__control:checked~div.sk-toggleable__content {max-height: 200px;max-width: 100%;overflow: auto;}#sk-container-id-15 input.sk-toggleable__control:checked~label.sk-toggleable__label-arrow:before {content: \"▾\";}#sk-container-id-15 div.sk-estimator input.sk-toggleable__control:checked~label.sk-toggleable__label {background-color: #d4ebff;}#sk-container-id-15 div.sk-label input.sk-toggleable__control:checked~label.sk-toggleable__label {background-color: #d4ebff;}#sk-container-id-15 input.sk-hidden--visually {border: 0;clip: rect(1px 1px 1px 1px);clip: rect(1px, 1px, 1px, 1px);height: 1px;margin: -1px;overflow: hidden;padding: 0;position: absolute;width: 1px;}#sk-container-id-15 div.sk-estimator {font-family: monospace;background-color: #f0f8ff;border: 1px dotted black;border-radius: 0.25em;box-sizing: border-box;margin-bottom: 0.5em;}#sk-container-id-15 div.sk-estimator:hover {background-color: #d4ebff;}#sk-container-id-15 div.sk-parallel-item::after {content: \"\";width: 100%;border-bottom: 1px solid gray;flex-grow: 1;}#sk-container-id-15 div.sk-label:hover label.sk-toggleable__label {background-color: #d4ebff;}#sk-container-id-15 div.sk-serial::before {content: \"\";position: absolute;border-left: 1px solid gray;box-sizing: border-box;top: 0;bottom: 0;left: 50%;z-index: 0;}#sk-container-id-15 div.sk-serial {display: flex;flex-direction: column;align-items: center;background-color: white;padding-right: 0.2em;padding-left: 0.2em;position: relative;}#sk-container-id-15 div.sk-item {position: relative;z-index: 1;}#sk-container-id-15 div.sk-parallel {display: flex;align-items: stretch;justify-content: center;background-color: white;position: relative;}#sk-container-id-15 div.sk-item::before, #sk-container-id-15 div.sk-parallel-item::before {content: \"\";position: absolute;border-left: 1px solid gray;box-sizing: border-box;top: 0;bottom: 0;left: 50%;z-index: -1;}#sk-container-id-15 div.sk-parallel-item {display: flex;flex-direction: column;z-index: 1;position: relative;background-color: white;}#sk-container-id-15 div.sk-parallel-item:first-child::after {align-self: flex-end;width: 50%;}#sk-container-id-15 div.sk-parallel-item:last-child::after {align-self: flex-start;width: 50%;}#sk-container-id-15 div.sk-parallel-item:only-child::after {width: 0;}#sk-container-id-15 div.sk-dashed-wrapped {border: 1px dashed gray;margin: 0 0.4em 0.5em 0.4em;box-sizing: border-box;padding-bottom: 0.4em;background-color: white;}#sk-container-id-15 div.sk-label label {font-family: monospace;font-weight: bold;display: inline-block;line-height: 1.2em;}#sk-container-id-15 div.sk-label-container {text-align: center;}#sk-container-id-15 div.sk-container {/* jupyter's `normalize.less` sets `[hidden] { display: none; }` but bootstrap.min.css set `[hidden] { display: none !important; }` so we also need the `!important` here to be able to override the default hidden behavior on the sphinx rendered scikit-learn.org. See: https://github.com/scikit-learn/scikit-learn/issues/21755 */display: inline-block !important;position: relative;}#sk-container-id-15 div.sk-text-repr-fallback {display: none;}</style><div id=\"sk-container-id-15\" class=\"sk-top-container\"><div class=\"sk-text-repr-fallback\"><pre>StandardScaler()</pre><b>In a Jupyter environment, please rerun this cell to show the HTML representation or trust the notebook. <br />On GitHub, the HTML representation is unable to render, please try loading this page with nbviewer.org.</b></div><div class=\"sk-container\" hidden><div class=\"sk-item\"><div class=\"sk-estimator sk-toggleable\"><input class=\"sk-toggleable__control sk-hidden--visually\" id=\"sk-estimator-id-15\" type=\"checkbox\" checked><label for=\"sk-estimator-id-15\" class=\"sk-toggleable__label sk-toggleable__label-arrow\">StandardScaler</label><div class=\"sk-toggleable__content\"><pre>StandardScaler()</pre></div></div></div></div></div>"
      ],
      "text/plain": [
       "StandardScaler()"
      ]
     },
     "execution_count": 327,
     "metadata": {},
     "output_type": "execute_result"
    }
   ],
   "source": [
    "scaler.fit(X_over)"
   ]
  },
  {
   "cell_type": "code",
   "execution_count": 328,
   "metadata": {},
   "outputs": [],
   "source": [
    "scaled_df=scaler.transform(X_over)"
   ]
  },
  {
   "cell_type": "code",
   "execution_count": 329,
   "metadata": {},
   "outputs": [],
   "source": [
    "# train,test 데이터 분리\n",
    "trainx,testx,trainy,testy = train_test_split(X_over,y_over,random_state=10)"
   ]
  },
  {
   "cell_type": "code",
   "execution_count": 330,
   "metadata": {},
   "outputs": [
    {
     "data": {
      "text/html": [
       "<style>#sk-container-id-16 {color: black;background-color: white;}#sk-container-id-16 pre{padding: 0;}#sk-container-id-16 div.sk-toggleable {background-color: white;}#sk-container-id-16 label.sk-toggleable__label {cursor: pointer;display: block;width: 100%;margin-bottom: 0;padding: 0.3em;box-sizing: border-box;text-align: center;}#sk-container-id-16 label.sk-toggleable__label-arrow:before {content: \"▸\";float: left;margin-right: 0.25em;color: #696969;}#sk-container-id-16 label.sk-toggleable__label-arrow:hover:before {color: black;}#sk-container-id-16 div.sk-estimator:hover label.sk-toggleable__label-arrow:before {color: black;}#sk-container-id-16 div.sk-toggleable__content {max-height: 0;max-width: 0;overflow: hidden;text-align: left;background-color: #f0f8ff;}#sk-container-id-16 div.sk-toggleable__content pre {margin: 0.2em;color: black;border-radius: 0.25em;background-color: #f0f8ff;}#sk-container-id-16 input.sk-toggleable__control:checked~div.sk-toggleable__content {max-height: 200px;max-width: 100%;overflow: auto;}#sk-container-id-16 input.sk-toggleable__control:checked~label.sk-toggleable__label-arrow:before {content: \"▾\";}#sk-container-id-16 div.sk-estimator input.sk-toggleable__control:checked~label.sk-toggleable__label {background-color: #d4ebff;}#sk-container-id-16 div.sk-label input.sk-toggleable__control:checked~label.sk-toggleable__label {background-color: #d4ebff;}#sk-container-id-16 input.sk-hidden--visually {border: 0;clip: rect(1px 1px 1px 1px);clip: rect(1px, 1px, 1px, 1px);height: 1px;margin: -1px;overflow: hidden;padding: 0;position: absolute;width: 1px;}#sk-container-id-16 div.sk-estimator {font-family: monospace;background-color: #f0f8ff;border: 1px dotted black;border-radius: 0.25em;box-sizing: border-box;margin-bottom: 0.5em;}#sk-container-id-16 div.sk-estimator:hover {background-color: #d4ebff;}#sk-container-id-16 div.sk-parallel-item::after {content: \"\";width: 100%;border-bottom: 1px solid gray;flex-grow: 1;}#sk-container-id-16 div.sk-label:hover label.sk-toggleable__label {background-color: #d4ebff;}#sk-container-id-16 div.sk-serial::before {content: \"\";position: absolute;border-left: 1px solid gray;box-sizing: border-box;top: 0;bottom: 0;left: 50%;z-index: 0;}#sk-container-id-16 div.sk-serial {display: flex;flex-direction: column;align-items: center;background-color: white;padding-right: 0.2em;padding-left: 0.2em;position: relative;}#sk-container-id-16 div.sk-item {position: relative;z-index: 1;}#sk-container-id-16 div.sk-parallel {display: flex;align-items: stretch;justify-content: center;background-color: white;position: relative;}#sk-container-id-16 div.sk-item::before, #sk-container-id-16 div.sk-parallel-item::before {content: \"\";position: absolute;border-left: 1px solid gray;box-sizing: border-box;top: 0;bottom: 0;left: 50%;z-index: -1;}#sk-container-id-16 div.sk-parallel-item {display: flex;flex-direction: column;z-index: 1;position: relative;background-color: white;}#sk-container-id-16 div.sk-parallel-item:first-child::after {align-self: flex-end;width: 50%;}#sk-container-id-16 div.sk-parallel-item:last-child::after {align-self: flex-start;width: 50%;}#sk-container-id-16 div.sk-parallel-item:only-child::after {width: 0;}#sk-container-id-16 div.sk-dashed-wrapped {border: 1px dashed gray;margin: 0 0.4em 0.5em 0.4em;box-sizing: border-box;padding-bottom: 0.4em;background-color: white;}#sk-container-id-16 div.sk-label label {font-family: monospace;font-weight: bold;display: inline-block;line-height: 1.2em;}#sk-container-id-16 div.sk-label-container {text-align: center;}#sk-container-id-16 div.sk-container {/* jupyter's `normalize.less` sets `[hidden] { display: none; }` but bootstrap.min.css set `[hidden] { display: none !important; }` so we also need the `!important` here to be able to override the default hidden behavior on the sphinx rendered scikit-learn.org. See: https://github.com/scikit-learn/scikit-learn/issues/21755 */display: inline-block !important;position: relative;}#sk-container-id-16 div.sk-text-repr-fallback {display: none;}</style><div id=\"sk-container-id-16\" class=\"sk-top-container\"><div class=\"sk-text-repr-fallback\"><pre>XGBClassifier(base_score=None, booster=None, callbacks=None,\n",
       "              colsample_bylevel=None, colsample_bynode=None,\n",
       "              colsample_bytree=None, early_stopping_rounds=None,\n",
       "              enable_categorical=False, eval_metric=None, feature_types=None,\n",
       "              gamma=None, gpu_id=None, grow_policy=None, importance_type=None,\n",
       "              interaction_constraints=None, learning_rate=None, max_bin=None,\n",
       "              max_cat_threshold=None, max_cat_to_onehot=None,\n",
       "              max_delta_step=None, max_depth=None, max_leaves=None,\n",
       "              min_child_weight=None, missing=nan, monotone_constraints=None,\n",
       "              n_estimators=500, n_jobs=None, num_parallel_tree=None,\n",
       "              predictor=None, random_state=None, ...)</pre><b>In a Jupyter environment, please rerun this cell to show the HTML representation or trust the notebook. <br />On GitHub, the HTML representation is unable to render, please try loading this page with nbviewer.org.</b></div><div class=\"sk-container\" hidden><div class=\"sk-item\"><div class=\"sk-estimator sk-toggleable\"><input class=\"sk-toggleable__control sk-hidden--visually\" id=\"sk-estimator-id-16\" type=\"checkbox\" checked><label for=\"sk-estimator-id-16\" class=\"sk-toggleable__label sk-toggleable__label-arrow\">XGBClassifier</label><div class=\"sk-toggleable__content\"><pre>XGBClassifier(base_score=None, booster=None, callbacks=None,\n",
       "              colsample_bylevel=None, colsample_bynode=None,\n",
       "              colsample_bytree=None, early_stopping_rounds=None,\n",
       "              enable_categorical=False, eval_metric=None, feature_types=None,\n",
       "              gamma=None, gpu_id=None, grow_policy=None, importance_type=None,\n",
       "              interaction_constraints=None, learning_rate=None, max_bin=None,\n",
       "              max_cat_threshold=None, max_cat_to_onehot=None,\n",
       "              max_delta_step=None, max_depth=None, max_leaves=None,\n",
       "              min_child_weight=None, missing=nan, monotone_constraints=None,\n",
       "              n_estimators=500, n_jobs=None, num_parallel_tree=None,\n",
       "              predictor=None, random_state=None, ...)</pre></div></div></div></div></div>"
      ],
      "text/plain": [
       "XGBClassifier(base_score=None, booster=None, callbacks=None,\n",
       "              colsample_bylevel=None, colsample_bynode=None,\n",
       "              colsample_bytree=None, early_stopping_rounds=None,\n",
       "              enable_categorical=False, eval_metric=None, feature_types=None,\n",
       "              gamma=None, gpu_id=None, grow_policy=None, importance_type=None,\n",
       "              interaction_constraints=None, learning_rate=None, max_bin=None,\n",
       "              max_cat_threshold=None, max_cat_to_onehot=None,\n",
       "              max_delta_step=None, max_depth=None, max_leaves=None,\n",
       "              min_child_weight=None, missing=nan, monotone_constraints=None,\n",
       "              n_estimators=500, n_jobs=None, num_parallel_tree=None,\n",
       "              predictor=None, random_state=None, ...)"
      ]
     },
     "execution_count": 330,
     "metadata": {},
     "output_type": "execute_result"
    }
   ],
   "source": [
    "# fit\n",
    "l1.fit(trainx,trainy)"
   ]
  },
  {
   "cell_type": "code",
   "execution_count": 331,
   "metadata": {},
   "outputs": [
    {
     "data": {
      "text/plain": [
       "0.8626185814341183"
      ]
     },
     "execution_count": 331,
     "metadata": {},
     "output_type": "execute_result"
    }
   ],
   "source": [
    "# train 데이터 score : accuracy\n",
    "l1.score(trainx,trainy)"
   ]
  },
  {
   "cell_type": "code",
   "execution_count": 332,
   "metadata": {},
   "outputs": [
    {
     "data": {
      "text/plain": [
       "0.8604874536487022"
      ]
     },
     "execution_count": 332,
     "metadata": {},
     "output_type": "execute_result"
    }
   ],
   "source": [
    "# test 데이터 score : accuracy\n",
    "l1.score(testx,testy)"
   ]
  },
  {
   "cell_type": "code",
   "execution_count": 348,
   "metadata": {},
   "outputs": [],
   "source": [
    "# predict\n",
    "pred=l1.predict(testx)"
   ]
  },
  {
   "cell_type": "code",
   "execution_count": 353,
   "metadata": {},
   "outputs": [
    {
     "name": "stdout",
     "output_type": "stream",
     "text": [
      "              precision    recall  f1-score   support\n",
      "\n",
      "           0       0.85      0.87      0.86    341022\n",
      "           1       0.87      0.85      0.86    353403\n",
      "\n",
      "    accuracy                           0.86    694425\n",
      "   macro avg       0.86      0.86      0.86    694425\n",
      "weighted avg       0.86      0.86      0.86    694425\n",
      "\n"
     ]
    }
   ],
   "source": [
    "# 상승하락에 대한 분류 모델은 꽤나 효과적으로 나타남\n",
    "print(classification_report(pred,testy))"
   ]
  },
  {
   "cell_type": "code",
   "execution_count": 369,
   "metadata": {},
   "outputs": [],
   "source": [
    "# 이번에는 가격변화량을 맞추고자 train,test분리\n",
    "train_x,test_x,train_y,test_y= train_test_split(df[[\"gold_price\",\"volume\",\"number_of_trades\"]], df[\"change_day\"])"
   ]
  },
  {
   "cell_type": "code",
   "execution_count": 370,
   "metadata": {},
   "outputs": [],
   "source": [
    "# 객체선언\n",
    "l2 = XGBRegressor()"
   ]
  },
  {
   "cell_type": "code",
   "execution_count": 371,
   "metadata": {},
   "outputs": [
    {
     "data": {
      "text/html": [
       "<style>#sk-container-id-17 {color: black;background-color: white;}#sk-container-id-17 pre{padding: 0;}#sk-container-id-17 div.sk-toggleable {background-color: white;}#sk-container-id-17 label.sk-toggleable__label {cursor: pointer;display: block;width: 100%;margin-bottom: 0;padding: 0.3em;box-sizing: border-box;text-align: center;}#sk-container-id-17 label.sk-toggleable__label-arrow:before {content: \"▸\";float: left;margin-right: 0.25em;color: #696969;}#sk-container-id-17 label.sk-toggleable__label-arrow:hover:before {color: black;}#sk-container-id-17 div.sk-estimator:hover label.sk-toggleable__label-arrow:before {color: black;}#sk-container-id-17 div.sk-toggleable__content {max-height: 0;max-width: 0;overflow: hidden;text-align: left;background-color: #f0f8ff;}#sk-container-id-17 div.sk-toggleable__content pre {margin: 0.2em;color: black;border-radius: 0.25em;background-color: #f0f8ff;}#sk-container-id-17 input.sk-toggleable__control:checked~div.sk-toggleable__content {max-height: 200px;max-width: 100%;overflow: auto;}#sk-container-id-17 input.sk-toggleable__control:checked~label.sk-toggleable__label-arrow:before {content: \"▾\";}#sk-container-id-17 div.sk-estimator input.sk-toggleable__control:checked~label.sk-toggleable__label {background-color: #d4ebff;}#sk-container-id-17 div.sk-label input.sk-toggleable__control:checked~label.sk-toggleable__label {background-color: #d4ebff;}#sk-container-id-17 input.sk-hidden--visually {border: 0;clip: rect(1px 1px 1px 1px);clip: rect(1px, 1px, 1px, 1px);height: 1px;margin: -1px;overflow: hidden;padding: 0;position: absolute;width: 1px;}#sk-container-id-17 div.sk-estimator {font-family: monospace;background-color: #f0f8ff;border: 1px dotted black;border-radius: 0.25em;box-sizing: border-box;margin-bottom: 0.5em;}#sk-container-id-17 div.sk-estimator:hover {background-color: #d4ebff;}#sk-container-id-17 div.sk-parallel-item::after {content: \"\";width: 100%;border-bottom: 1px solid gray;flex-grow: 1;}#sk-container-id-17 div.sk-label:hover label.sk-toggleable__label {background-color: #d4ebff;}#sk-container-id-17 div.sk-serial::before {content: \"\";position: absolute;border-left: 1px solid gray;box-sizing: border-box;top: 0;bottom: 0;left: 50%;z-index: 0;}#sk-container-id-17 div.sk-serial {display: flex;flex-direction: column;align-items: center;background-color: white;padding-right: 0.2em;padding-left: 0.2em;position: relative;}#sk-container-id-17 div.sk-item {position: relative;z-index: 1;}#sk-container-id-17 div.sk-parallel {display: flex;align-items: stretch;justify-content: center;background-color: white;position: relative;}#sk-container-id-17 div.sk-item::before, #sk-container-id-17 div.sk-parallel-item::before {content: \"\";position: absolute;border-left: 1px solid gray;box-sizing: border-box;top: 0;bottom: 0;left: 50%;z-index: -1;}#sk-container-id-17 div.sk-parallel-item {display: flex;flex-direction: column;z-index: 1;position: relative;background-color: white;}#sk-container-id-17 div.sk-parallel-item:first-child::after {align-self: flex-end;width: 50%;}#sk-container-id-17 div.sk-parallel-item:last-child::after {align-self: flex-start;width: 50%;}#sk-container-id-17 div.sk-parallel-item:only-child::after {width: 0;}#sk-container-id-17 div.sk-dashed-wrapped {border: 1px dashed gray;margin: 0 0.4em 0.5em 0.4em;box-sizing: border-box;padding-bottom: 0.4em;background-color: white;}#sk-container-id-17 div.sk-label label {font-family: monospace;font-weight: bold;display: inline-block;line-height: 1.2em;}#sk-container-id-17 div.sk-label-container {text-align: center;}#sk-container-id-17 div.sk-container {/* jupyter's `normalize.less` sets `[hidden] { display: none; }` but bootstrap.min.css set `[hidden] { display: none !important; }` so we also need the `!important` here to be able to override the default hidden behavior on the sphinx rendered scikit-learn.org. See: https://github.com/scikit-learn/scikit-learn/issues/21755 */display: inline-block !important;position: relative;}#sk-container-id-17 div.sk-text-repr-fallback {display: none;}</style><div id=\"sk-container-id-17\" class=\"sk-top-container\"><div class=\"sk-text-repr-fallback\"><pre>XGBRegressor(base_score=None, booster=None, callbacks=None,\n",
       "             colsample_bylevel=None, colsample_bynode=None,\n",
       "             colsample_bytree=None, early_stopping_rounds=None,\n",
       "             enable_categorical=False, eval_metric=None, feature_types=None,\n",
       "             gamma=None, gpu_id=None, grow_policy=None, importance_type=None,\n",
       "             interaction_constraints=None, learning_rate=None, max_bin=None,\n",
       "             max_cat_threshold=None, max_cat_to_onehot=None,\n",
       "             max_delta_step=None, max_depth=None, max_leaves=None,\n",
       "             min_child_weight=None, missing=nan, monotone_constraints=None,\n",
       "             n_estimators=100, n_jobs=None, num_parallel_tree=None,\n",
       "             predictor=None, random_state=None, ...)</pre><b>In a Jupyter environment, please rerun this cell to show the HTML representation or trust the notebook. <br />On GitHub, the HTML representation is unable to render, please try loading this page with nbviewer.org.</b></div><div class=\"sk-container\" hidden><div class=\"sk-item\"><div class=\"sk-estimator sk-toggleable\"><input class=\"sk-toggleable__control sk-hidden--visually\" id=\"sk-estimator-id-17\" type=\"checkbox\" checked><label for=\"sk-estimator-id-17\" class=\"sk-toggleable__label sk-toggleable__label-arrow\">XGBRegressor</label><div class=\"sk-toggleable__content\"><pre>XGBRegressor(base_score=None, booster=None, callbacks=None,\n",
       "             colsample_bylevel=None, colsample_bynode=None,\n",
       "             colsample_bytree=None, early_stopping_rounds=None,\n",
       "             enable_categorical=False, eval_metric=None, feature_types=None,\n",
       "             gamma=None, gpu_id=None, grow_policy=None, importance_type=None,\n",
       "             interaction_constraints=None, learning_rate=None, max_bin=None,\n",
       "             max_cat_threshold=None, max_cat_to_onehot=None,\n",
       "             max_delta_step=None, max_depth=None, max_leaves=None,\n",
       "             min_child_weight=None, missing=nan, monotone_constraints=None,\n",
       "             n_estimators=100, n_jobs=None, num_parallel_tree=None,\n",
       "             predictor=None, random_state=None, ...)</pre></div></div></div></div></div>"
      ],
      "text/plain": [
       "XGBRegressor(base_score=None, booster=None, callbacks=None,\n",
       "             colsample_bylevel=None, colsample_bynode=None,\n",
       "             colsample_bytree=None, early_stopping_rounds=None,\n",
       "             enable_categorical=False, eval_metric=None, feature_types=None,\n",
       "             gamma=None, gpu_id=None, grow_policy=None, importance_type=None,\n",
       "             interaction_constraints=None, learning_rate=None, max_bin=None,\n",
       "             max_cat_threshold=None, max_cat_to_onehot=None,\n",
       "             max_delta_step=None, max_depth=None, max_leaves=None,\n",
       "             min_child_weight=None, missing=nan, monotone_constraints=None,\n",
       "             n_estimators=100, n_jobs=None, num_parallel_tree=None,\n",
       "             predictor=None, random_state=None, ...)"
      ]
     },
     "execution_count": 371,
     "metadata": {},
     "output_type": "execute_result"
    }
   ],
   "source": [
    "# 학습\n",
    "l2.fit(train_x,train_y)"
   ]
  },
  {
   "cell_type": "code",
   "execution_count": 372,
   "metadata": {},
   "outputs": [
    {
     "data": {
      "text/plain": [
       "0.673205126353098"
      ]
     },
     "execution_count": 372,
     "metadata": {},
     "output_type": "execute_result"
    }
   ],
   "source": [
    "# Regressor 과소적합됨\n",
    "l2.score(train_x,train_y)"
   ]
  },
  {
   "cell_type": "code",
   "execution_count": 373,
   "metadata": {},
   "outputs": [
    {
     "data": {
      "text/plain": [
       "0.6700975667685745"
      ]
     },
     "execution_count": 373,
     "metadata": {},
     "output_type": "execute_result"
    }
   ],
   "source": [
    "# test 역시 과소적합됨\n",
    "l2.score(test_x,test_y)"
   ]
  },
  {
   "cell_type": "code",
   "execution_count": 379,
   "metadata": {},
   "outputs": [],
   "source": [
    "# RandomForestRegressor로도 시도\n",
    "l3 = RandomForestRegressor()"
   ]
  },
  {
   "cell_type": "code",
   "execution_count": 380,
   "metadata": {},
   "outputs": [
    {
     "data": {
      "text/html": [
       "<style>#sk-container-id-18 {color: black;background-color: white;}#sk-container-id-18 pre{padding: 0;}#sk-container-id-18 div.sk-toggleable {background-color: white;}#sk-container-id-18 label.sk-toggleable__label {cursor: pointer;display: block;width: 100%;margin-bottom: 0;padding: 0.3em;box-sizing: border-box;text-align: center;}#sk-container-id-18 label.sk-toggleable__label-arrow:before {content: \"▸\";float: left;margin-right: 0.25em;color: #696969;}#sk-container-id-18 label.sk-toggleable__label-arrow:hover:before {color: black;}#sk-container-id-18 div.sk-estimator:hover label.sk-toggleable__label-arrow:before {color: black;}#sk-container-id-18 div.sk-toggleable__content {max-height: 0;max-width: 0;overflow: hidden;text-align: left;background-color: #f0f8ff;}#sk-container-id-18 div.sk-toggleable__content pre {margin: 0.2em;color: black;border-radius: 0.25em;background-color: #f0f8ff;}#sk-container-id-18 input.sk-toggleable__control:checked~div.sk-toggleable__content {max-height: 200px;max-width: 100%;overflow: auto;}#sk-container-id-18 input.sk-toggleable__control:checked~label.sk-toggleable__label-arrow:before {content: \"▾\";}#sk-container-id-18 div.sk-estimator input.sk-toggleable__control:checked~label.sk-toggleable__label {background-color: #d4ebff;}#sk-container-id-18 div.sk-label input.sk-toggleable__control:checked~label.sk-toggleable__label {background-color: #d4ebff;}#sk-container-id-18 input.sk-hidden--visually {border: 0;clip: rect(1px 1px 1px 1px);clip: rect(1px, 1px, 1px, 1px);height: 1px;margin: -1px;overflow: hidden;padding: 0;position: absolute;width: 1px;}#sk-container-id-18 div.sk-estimator {font-family: monospace;background-color: #f0f8ff;border: 1px dotted black;border-radius: 0.25em;box-sizing: border-box;margin-bottom: 0.5em;}#sk-container-id-18 div.sk-estimator:hover {background-color: #d4ebff;}#sk-container-id-18 div.sk-parallel-item::after {content: \"\";width: 100%;border-bottom: 1px solid gray;flex-grow: 1;}#sk-container-id-18 div.sk-label:hover label.sk-toggleable__label {background-color: #d4ebff;}#sk-container-id-18 div.sk-serial::before {content: \"\";position: absolute;border-left: 1px solid gray;box-sizing: border-box;top: 0;bottom: 0;left: 50%;z-index: 0;}#sk-container-id-18 div.sk-serial {display: flex;flex-direction: column;align-items: center;background-color: white;padding-right: 0.2em;padding-left: 0.2em;position: relative;}#sk-container-id-18 div.sk-item {position: relative;z-index: 1;}#sk-container-id-18 div.sk-parallel {display: flex;align-items: stretch;justify-content: center;background-color: white;position: relative;}#sk-container-id-18 div.sk-item::before, #sk-container-id-18 div.sk-parallel-item::before {content: \"\";position: absolute;border-left: 1px solid gray;box-sizing: border-box;top: 0;bottom: 0;left: 50%;z-index: -1;}#sk-container-id-18 div.sk-parallel-item {display: flex;flex-direction: column;z-index: 1;position: relative;background-color: white;}#sk-container-id-18 div.sk-parallel-item:first-child::after {align-self: flex-end;width: 50%;}#sk-container-id-18 div.sk-parallel-item:last-child::after {align-self: flex-start;width: 50%;}#sk-container-id-18 div.sk-parallel-item:only-child::after {width: 0;}#sk-container-id-18 div.sk-dashed-wrapped {border: 1px dashed gray;margin: 0 0.4em 0.5em 0.4em;box-sizing: border-box;padding-bottom: 0.4em;background-color: white;}#sk-container-id-18 div.sk-label label {font-family: monospace;font-weight: bold;display: inline-block;line-height: 1.2em;}#sk-container-id-18 div.sk-label-container {text-align: center;}#sk-container-id-18 div.sk-container {/* jupyter's `normalize.less` sets `[hidden] { display: none; }` but bootstrap.min.css set `[hidden] { display: none !important; }` so we also need the `!important` here to be able to override the default hidden behavior on the sphinx rendered scikit-learn.org. See: https://github.com/scikit-learn/scikit-learn/issues/21755 */display: inline-block !important;position: relative;}#sk-container-id-18 div.sk-text-repr-fallback {display: none;}</style><div id=\"sk-container-id-18\" class=\"sk-top-container\"><div class=\"sk-text-repr-fallback\"><pre>RandomForestRegressor()</pre><b>In a Jupyter environment, please rerun this cell to show the HTML representation or trust the notebook. <br />On GitHub, the HTML representation is unable to render, please try loading this page with nbviewer.org.</b></div><div class=\"sk-container\" hidden><div class=\"sk-item\"><div class=\"sk-estimator sk-toggleable\"><input class=\"sk-toggleable__control sk-hidden--visually\" id=\"sk-estimator-id-18\" type=\"checkbox\" checked><label for=\"sk-estimator-id-18\" class=\"sk-toggleable__label sk-toggleable__label-arrow\">RandomForestRegressor</label><div class=\"sk-toggleable__content\"><pre>RandomForestRegressor()</pre></div></div></div></div></div>"
      ],
      "text/plain": [
       "RandomForestRegressor()"
      ]
     },
     "execution_count": 380,
     "metadata": {},
     "output_type": "execute_result"
    }
   ],
   "source": [
    "# 학습\n",
    "l3.fit(train_x,train_y)"
   ]
  },
  {
   "cell_type": "code",
   "execution_count": 381,
   "metadata": {},
   "outputs": [
    {
     "data": {
      "text/plain": [
       "0.9551247221223353"
      ]
     },
     "execution_count": 381,
     "metadata": {},
     "output_type": "execute_result"
    }
   ],
   "source": [
    "# 과대적합됨\n",
    "l3.score(train_x,train_y)"
   ]
  },
  {
   "cell_type": "code",
   "execution_count": 382,
   "metadata": {},
   "outputs": [
    {
     "data": {
      "text/plain": [
       "0.6783387830242351"
      ]
     },
     "execution_count": 382,
     "metadata": {},
     "output_type": "execute_result"
    }
   ],
   "source": [
    "l3.score(test_x,test_y)"
   ]
  }
 ],
 "metadata": {
  "kernelspec": {
   "display_name": "MY_PYTHON",
   "language": "python",
   "name": "python3"
  },
  "language_info": {
   "codemirror_mode": {
    "name": "ipython",
    "version": 3
   },
   "file_extension": ".py",
   "mimetype": "text/x-python",
   "name": "python",
   "nbconvert_exporter": "python",
   "pygments_lexer": "ipython3",
   "version": "3.9.17"
  },
  "orig_nbformat": 4
 },
 "nbformat": 4,
 "nbformat_minor": 2
}
