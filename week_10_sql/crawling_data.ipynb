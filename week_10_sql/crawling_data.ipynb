{
 "cells": [
  {
   "cell_type": "code",
   "execution_count": 3,
   "metadata": {},
   "outputs": [
    {
     "name": "stderr",
     "output_type": "stream",
     "text": [
      "  0%|          | 0/1000 [00:00<?, ?it/s]\n",
      "100%|██████████| 10/10 [00:00<?, ?it/s]\n",
      "\n",
      "100%|██████████| 8/8 [00:00<?, ?it/s]\n",
      "\n",
      "100%|██████████| 10/10 [00:00<?, ?it/s]\n",
      "\n",
      "100%|██████████| 6/6 [00:00<?, ?it/s]\n",
      "\n",
      "100%|██████████| 6/6 [00:00<?, ?it/s]\n",
      "\n",
      "100%|██████████| 10/10 [00:00<?, ?it/s]\n",
      "\n",
      "100%|██████████| 5/5 [00:00<?, ?it/s]\n",
      "\n",
      "100%|██████████| 7/7 [00:00<?, ?it/s]\n",
      "\n",
      "100%|██████████| 9/9 [00:00<00:00, 8836.31it/s]\n",
      "\n",
      "100%|██████████| 6/6 [00:00<?, ?it/s]\n"
     ]
    }
   ],
   "source": [
    "# 모듈로딩\n",
    "import mariadb\n",
    "import pandas as pd\n",
    "from bs4 import BeautifulSoup\n",
    "import requests\n",
    "import time\n",
    "from tqdm import tqdm\n",
    "import random\n",
    "\n",
    "# insert 할 mariadb params\n",
    "conn_params = {'host':'아이피주소','port':3306,'user':'project_user','password':'project_user','database':\"project\",'autocommit':True}\n",
    "conn = mariadb.connect(**conn_params)\n",
    "cur = conn.cursor()\n",
    "\n",
    "# 크롤링\n",
    "for j in tqdm(range(1,1001)):\n",
    "    site=requests.get(f\"https://www.10000recipe.com/recipe/list.html?order=reco&page={j}\")\n",
    "    html=BeautifulSoup(site.text,\"html.parser\")\n",
    "    recipe_lists=html.select_one(\"#contents_area_full > ul > ul\")\n",
    "    base = \"https://www.10000recipe.com\"\n",
    "\n",
    "    # 40개의 레시피가 있는 페이지를 반복\n",
    "    for i in tqdm(recipe_lists.select(\"a.common_sp_link\")):\n",
    "        try:\n",
    "            # 세부주소\n",
    "            total_addr1 = base + i[\"href\"]\n",
    "            total_addr2 = requests.get(total_addr1)\n",
    "            time.sleep(0.5+random.random())\n",
    "            total_addr3=BeautifulSoup(total_addr2.text,\"html.parser\")\n",
    "            ingredient_list=total_addr3.select(\"#divConfirmedMaterialArea ul li\")\n",
    "\n",
    "            cook_name = total_addr3.select_one(\"#relationGoods > div.best_tit b\")\n",
    "\n",
    "            ingredient_total = []\n",
    "            ingredient_split = \"\"\n",
    "            for i in tqdm(ingredient_list):\n",
    "                ingredient_total.append(i.select_one(\"a\")[\"href\"].replace(\"'\",\"\")[25:].replace(\");\",\"\"))\n",
    "            \n",
    "            ingredient_split=\" \".join(ingredient_total)\n",
    "\n",
    "            # db에 insert\n",
    "            cur.execute(f\"INSERT INTO tb_ingredient VALUES ('{cook_name.text}','{ingredient_split}');\")\n",
    "        except:\n",
    "            pass\n",
    "cur.close()\n",
    "conn.close()\n",
    "        "
   ]
  }
 ],
 "metadata": {
  "kernelspec": {
   "display_name": "deep2",
   "language": "python",
   "name": "python3"
  },
  "language_info": {
   "codemirror_mode": {
    "name": "ipython",
    "version": 3
   },
   "file_extension": ".py",
   "mimetype": "text/x-python",
   "name": "python",
   "nbconvert_exporter": "python",
   "pygments_lexer": "ipython3",
   "version": "3.9.7"
  }
 },
 "nbformat": 4,
 "nbformat_minor": 2
}
